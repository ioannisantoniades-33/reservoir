{
 "cells": [
  {
   "cell_type": "markdown",
   "id": "e8c0f211-4dc7-46b5-a836-c2735b252c86",
   "metadata": {},
   "source": [
    "# Prediction of a stock"
   ]
  },
  {
   "cell_type": "markdown",
   "id": "3ba69422-a362-477d-9479-6bd58524f78f",
   "metadata": {},
   "source": [
    "## Αρχικά καλούμε τις βιβλιοθήκες που θα χρησιμοποιήσουμε στον κώδικα μας "
   ]
  },
  {
   "cell_type": "code",
   "execution_count": 4,
   "id": "e738bd9d-cd8c-4eed-9310-ed0cecce1ac2",
   "metadata": {
    "scrolled": true
   },
   "outputs": [],
   "source": [
    "from pyrcn.echo_state_network import ESNRegressor\n",
    "import pandas as pd\n",
    "import numpy as np\n",
    "from numpy import array\n",
    "from matplotlib import pyplot as plt\n",
    "import math\n",
    "import csv\n",
    "\n"
   ]
  },
  {
   "cell_type": "markdown",
   "id": "05617458-1bbd-44b2-b86b-422ab6f0c189",
   "metadata": {},
   "source": [
    "## Ξεκινάμε να επεξεργαζόμαστε τα δεδομένα μας για να τα φέρουμε στην μορφή που χρειάζεται"
   ]
  },
  {
   "cell_type": "code",
   "execution_count": 30,
   "id": "008a7d95-3d25-4a4e-bed8-536ca90fddd4",
   "metadata": {},
   "outputs": [
    {
     "name": "stdout",
     "output_type": "stream",
     "text": [
      "0                          date      time   <OPEN>   <HIGH>    <LOW>  <CLOSE>  \\\n",
      "datetime                                                                        \n",
      "2024-01-02 00:00:00  2024-01-02  00:00:00  0.86724  0.86753  0.86717  0.86744   \n",
      "2024-01-02 00:15:00  2024-01-02  00:15:00  0.86744  0.86768  0.86722  0.86751   \n",
      "2024-01-02 00:30:00  2024-01-02  00:30:00  0.86756  0.86781  0.86704  0.86725   \n",
      "2024-01-02 00:45:00  2024-01-02  00:45:00  0.86736  0.86744  0.86700  0.86737   \n",
      "2024-01-02 01:00:00  2024-01-02  01:00:00  0.86738  0.86738  0.86682  0.86687   \n",
      "\n",
      "0                    <TICKVOL>  <VOL>  <SPREAD>  \n",
      "datetime                                         \n",
      "2024-01-02 00:00:00         52      0        51  \n",
      "2024-01-02 00:15:00         75      0         3  \n",
      "2024-01-02 00:30:00        153      0         5  \n",
      "2024-01-02 00:45:00         95      0         3  \n",
      "2024-01-02 01:00:00        299      0         2  \n"
     ]
    }
   ],
   "source": [
    "# ─────────────────── 1. Φόρτωση ακριβώς ως κείμενο ───────────────────\n",
    "raw = pd.read_csv(\n",
    "    r\"C:\\Users\\chilly\\Desktop\\EURGBP_M15.csv\",\n",
    "    sep='\\t',            # πραγματικοί tab διαχωριστές μέσα στα quotes\n",
    "    engine='python',\n",
    "    quoting=csv.QUOTE_NONE,   # αγνόησε τα περικλειστικά \"\n",
    "    header=None,              # κάθε γραμμή έχει την ίδια δομή\n",
    "    dtype=str                 # κράτησε τα πάντα ως συμβολοσειρές προς το παρόν\n",
    ")\n",
    "\n",
    "# ─────────────────── 2. Αφαίρεση των υπολειπόμενων εισαγωγικών ───────────────────\n",
    "raw = raw.replace('\"', '', regex=True)\n",
    "\n",
    "# ─────────────────── 3. Προώθηση της πρώτης γραμμής σε επικεφαλίδα ───────────────────\n",
    "raw.columns = raw.iloc[0]\n",
    "df = raw.iloc[1:].reset_index(drop=True)\n",
    "\n",
    "# ─────────────────── 4. Διαχωρισμός ημερομηνίας & ώρας σε ξεχωριστές στήλες ───────────────────\n",
    "# Στο αρχείο σου είναι ήδη ξεχωριστές (<DATE> και <TIME>), οπότε απλώς μετονομάζουμε και κάνουμε cast\n",
    "df = df.rename(columns={'<DATE>': 'date', '<TIME>': 'time'})\n",
    "\n",
    "# αν είχες ημερομηνία+ώρα σε μία στήλη, χρησιμοποιείς:\n",
    "# df[['date', 'time']] = df['date_time_col'].str.split(' ', 1, expand=True)\n",
    "\n",
    "# ─────────────────── 5. Μετατροπή σε κατάλληλους τύπους δεδομένων ───────────────────\n",
    "df['date'] = pd.to_datetime(df['date'], format='%Y.%m.%d').dt.date\n",
    "df['time'] = pd.to_datetime(df['time'], format='%H:%M:%S').dt.time\n",
    "\n",
    "# οι υπόλοιπες στήλες που είναι αριθμητικές\n",
    "num_cols = df.columns.difference(['date', 'time'])\n",
    "df[num_cols] = df[num_cols].apply(pd.to_numeric)\n",
    "\n",
    "# ─────────────────── 6. Δημιουργία πλήρους datetime index (προαιρετικό αλλά χρήσιμο) ───────────────────\n",
    "df['datetime'] = pd.to_datetime(df['date'].astype(str) + ' ' + df['time'].astype(str))\n",
    "df = df.set_index('datetime')\n",
    "\n",
    "# Τώρα έχεις:\n",
    "#   • index: πλήρης χρονική σφραγίδα\n",
    "#   • στήλη 'date': αντικείμενο python `datetime.date`\n",
    "#   • στήλη 'time': αντικείμενο python `datetime.time`\n",
    "#   • 7 αριθμητικές στήλες τύπου OHLC κ.λπ.\n",
    "print(df.head())\n",
    "\n"
   ]
  },
  {
   "cell_type": "code",
   "execution_count": 31,
   "id": "9bb7f102-5658-44ec-b1c9-f697eb83b491",
   "metadata": {
    "scrolled": true
   },
   "outputs": [
    {
     "data": {
      "text/html": [
       "<div>\n",
       "<style scoped>\n",
       "    .dataframe tbody tr th:only-of-type {\n",
       "        vertical-align: middle;\n",
       "    }\n",
       "\n",
       "    .dataframe tbody tr th {\n",
       "        vertical-align: top;\n",
       "    }\n",
       "\n",
       "    .dataframe thead th {\n",
       "        text-align: right;\n",
       "    }\n",
       "</style>\n",
       "<table border=\"1\" class=\"dataframe\">\n",
       "  <thead>\n",
       "    <tr style=\"text-align: right;\">\n",
       "      <th></th>\n",
       "      <th>date</th>\n",
       "      <th>time</th>\n",
       "      <th>&lt;OPEN&gt;</th>\n",
       "      <th>&lt;HIGH&gt;</th>\n",
       "      <th>&lt;LOW&gt;</th>\n",
       "      <th>&lt;CLOSE&gt;</th>\n",
       "      <th>&lt;TICKVOL&gt;</th>\n",
       "      <th>&lt;VOL&gt;</th>\n",
       "      <th>&lt;SPREAD&gt;</th>\n",
       "    </tr>\n",
       "    <tr>\n",
       "      <th>datetime</th>\n",
       "      <th></th>\n",
       "      <th></th>\n",
       "      <th></th>\n",
       "      <th></th>\n",
       "      <th></th>\n",
       "      <th></th>\n",
       "      <th></th>\n",
       "      <th></th>\n",
       "      <th></th>\n",
       "    </tr>\n",
       "  </thead>\n",
       "  <tbody>\n",
       "    <tr>\n",
       "      <th>2024-01-02 00:00:00</th>\n",
       "      <td>2024-01-02</td>\n",
       "      <td>00:00:00</td>\n",
       "      <td>0.86724</td>\n",
       "      <td>0.86753</td>\n",
       "      <td>0.86717</td>\n",
       "      <td>0.86744</td>\n",
       "      <td>52</td>\n",
       "      <td>0</td>\n",
       "      <td>51</td>\n",
       "    </tr>\n",
       "    <tr>\n",
       "      <th>2024-01-02 00:15:00</th>\n",
       "      <td>2024-01-02</td>\n",
       "      <td>00:15:00</td>\n",
       "      <td>0.86744</td>\n",
       "      <td>0.86768</td>\n",
       "      <td>0.86722</td>\n",
       "      <td>0.86751</td>\n",
       "      <td>75</td>\n",
       "      <td>0</td>\n",
       "      <td>3</td>\n",
       "    </tr>\n",
       "    <tr>\n",
       "      <th>2024-01-02 00:30:00</th>\n",
       "      <td>2024-01-02</td>\n",
       "      <td>00:30:00</td>\n",
       "      <td>0.86756</td>\n",
       "      <td>0.86781</td>\n",
       "      <td>0.86704</td>\n",
       "      <td>0.86725</td>\n",
       "      <td>153</td>\n",
       "      <td>0</td>\n",
       "      <td>5</td>\n",
       "    </tr>\n",
       "    <tr>\n",
       "      <th>2024-01-02 00:45:00</th>\n",
       "      <td>2024-01-02</td>\n",
       "      <td>00:45:00</td>\n",
       "      <td>0.86736</td>\n",
       "      <td>0.86744</td>\n",
       "      <td>0.86700</td>\n",
       "      <td>0.86737</td>\n",
       "      <td>95</td>\n",
       "      <td>0</td>\n",
       "      <td>3</td>\n",
       "    </tr>\n",
       "    <tr>\n",
       "      <th>2024-01-02 01:00:00</th>\n",
       "      <td>2024-01-02</td>\n",
       "      <td>01:00:00</td>\n",
       "      <td>0.86738</td>\n",
       "      <td>0.86738</td>\n",
       "      <td>0.86682</td>\n",
       "      <td>0.86687</td>\n",
       "      <td>299</td>\n",
       "      <td>0</td>\n",
       "      <td>2</td>\n",
       "    </tr>\n",
       "    <tr>\n",
       "      <th>...</th>\n",
       "      <td>...</td>\n",
       "      <td>...</td>\n",
       "      <td>...</td>\n",
       "      <td>...</td>\n",
       "      <td>...</td>\n",
       "      <td>...</td>\n",
       "      <td>...</td>\n",
       "      <td>...</td>\n",
       "      <td>...</td>\n",
       "    </tr>\n",
       "    <tr>\n",
       "      <th>2025-04-11 22:45:00</th>\n",
       "      <td>2025-04-11</td>\n",
       "      <td>22:45:00</td>\n",
       "      <td>0.86701</td>\n",
       "      <td>0.86737</td>\n",
       "      <td>0.86690</td>\n",
       "      <td>0.86727</td>\n",
       "      <td>732</td>\n",
       "      <td>0</td>\n",
       "      <td>22</td>\n",
       "    </tr>\n",
       "    <tr>\n",
       "      <th>2025-04-11 23:00:00</th>\n",
       "      <td>2025-04-11</td>\n",
       "      <td>23:00:00</td>\n",
       "      <td>0.86727</td>\n",
       "      <td>0.86760</td>\n",
       "      <td>0.86710</td>\n",
       "      <td>0.86753</td>\n",
       "      <td>431</td>\n",
       "      <td>0</td>\n",
       "      <td>21</td>\n",
       "    </tr>\n",
       "    <tr>\n",
       "      <th>2025-04-11 23:15:00</th>\n",
       "      <td>2025-04-11</td>\n",
       "      <td>23:15:00</td>\n",
       "      <td>0.86753</td>\n",
       "      <td>0.86830</td>\n",
       "      <td>0.86748</td>\n",
       "      <td>0.86819</td>\n",
       "      <td>268</td>\n",
       "      <td>0</td>\n",
       "      <td>20</td>\n",
       "    </tr>\n",
       "    <tr>\n",
       "      <th>2025-04-11 23:30:00</th>\n",
       "      <td>2025-04-11</td>\n",
       "      <td>23:30:00</td>\n",
       "      <td>0.86819</td>\n",
       "      <td>0.86846</td>\n",
       "      <td>0.86793</td>\n",
       "      <td>0.86808</td>\n",
       "      <td>513</td>\n",
       "      <td>0</td>\n",
       "      <td>19</td>\n",
       "    </tr>\n",
       "    <tr>\n",
       "      <th>2025-04-11 23:45:00</th>\n",
       "      <td>2025-04-11</td>\n",
       "      <td>23:45:00</td>\n",
       "      <td>0.86806</td>\n",
       "      <td>0.86827</td>\n",
       "      <td>0.86686</td>\n",
       "      <td>0.86686</td>\n",
       "      <td>776</td>\n",
       "      <td>0</td>\n",
       "      <td>16</td>\n",
       "    </tr>\n",
       "  </tbody>\n",
       "</table>\n",
       "<p>31784 rows × 9 columns</p>\n",
       "</div>"
      ],
      "text/plain": [
       "0                          date      time   <OPEN>   <HIGH>    <LOW>  <CLOSE>  \\\n",
       "datetime                                                                        \n",
       "2024-01-02 00:00:00  2024-01-02  00:00:00  0.86724  0.86753  0.86717  0.86744   \n",
       "2024-01-02 00:15:00  2024-01-02  00:15:00  0.86744  0.86768  0.86722  0.86751   \n",
       "2024-01-02 00:30:00  2024-01-02  00:30:00  0.86756  0.86781  0.86704  0.86725   \n",
       "2024-01-02 00:45:00  2024-01-02  00:45:00  0.86736  0.86744  0.86700  0.86737   \n",
       "2024-01-02 01:00:00  2024-01-02  01:00:00  0.86738  0.86738  0.86682  0.86687   \n",
       "...                         ...       ...      ...      ...      ...      ...   \n",
       "2025-04-11 22:45:00  2025-04-11  22:45:00  0.86701  0.86737  0.86690  0.86727   \n",
       "2025-04-11 23:00:00  2025-04-11  23:00:00  0.86727  0.86760  0.86710  0.86753   \n",
       "2025-04-11 23:15:00  2025-04-11  23:15:00  0.86753  0.86830  0.86748  0.86819   \n",
       "2025-04-11 23:30:00  2025-04-11  23:30:00  0.86819  0.86846  0.86793  0.86808   \n",
       "2025-04-11 23:45:00  2025-04-11  23:45:00  0.86806  0.86827  0.86686  0.86686   \n",
       "\n",
       "0                    <TICKVOL>  <VOL>  <SPREAD>  \n",
       "datetime                                         \n",
       "2024-01-02 00:00:00         52      0        51  \n",
       "2024-01-02 00:15:00         75      0         3  \n",
       "2024-01-02 00:30:00        153      0         5  \n",
       "2024-01-02 00:45:00         95      0         3  \n",
       "2024-01-02 01:00:00        299      0         2  \n",
       "...                        ...    ...       ...  \n",
       "2025-04-11 22:45:00        732      0        22  \n",
       "2025-04-11 23:00:00        431      0        21  \n",
       "2025-04-11 23:15:00        268      0        20  \n",
       "2025-04-11 23:30:00        513      0        19  \n",
       "2025-04-11 23:45:00        776      0        16  \n",
       "\n",
       "[31784 rows x 9 columns]"
      ]
     },
     "execution_count": 31,
     "metadata": {},
     "output_type": "execute_result"
    }
   ],
   "source": [
    "df"
   ]
  },
  {
   "cell_type": "markdown",
   "id": "9cf1a430-e9d0-4b59-bc02-1abc382ffa81",
   "metadata": {},
   "source": [
    "## Αφαιρούμε τον index για να έχουμε τις 9 στείλες που μας ενδιαφέρουν"
   ]
  },
  {
   "cell_type": "code",
   "execution_count": 32,
   "id": "755ef256-cb0c-4da1-987d-d7eec158955e",
   "metadata": {},
   "outputs": [],
   "source": [
    "df = df.reset_index(drop=True) "
   ]
  },
  {
   "cell_type": "code",
   "execution_count": 33,
   "id": "4fc0c6ac-92d3-49b1-a63c-f0540e95504d",
   "metadata": {
    "scrolled": true
   },
   "outputs": [
    {
     "data": {
      "text/html": [
       "<div>\n",
       "<style scoped>\n",
       "    .dataframe tbody tr th:only-of-type {\n",
       "        vertical-align: middle;\n",
       "    }\n",
       "\n",
       "    .dataframe tbody tr th {\n",
       "        vertical-align: top;\n",
       "    }\n",
       "\n",
       "    .dataframe thead th {\n",
       "        text-align: right;\n",
       "    }\n",
       "</style>\n",
       "<table border=\"1\" class=\"dataframe\">\n",
       "  <thead>\n",
       "    <tr style=\"text-align: right;\">\n",
       "      <th></th>\n",
       "      <th>date</th>\n",
       "      <th>time</th>\n",
       "      <th>&lt;OPEN&gt;</th>\n",
       "      <th>&lt;HIGH&gt;</th>\n",
       "      <th>&lt;LOW&gt;</th>\n",
       "      <th>&lt;CLOSE&gt;</th>\n",
       "      <th>&lt;TICKVOL&gt;</th>\n",
       "      <th>&lt;VOL&gt;</th>\n",
       "      <th>&lt;SPREAD&gt;</th>\n",
       "    </tr>\n",
       "  </thead>\n",
       "  <tbody>\n",
       "    <tr>\n",
       "      <th>0</th>\n",
       "      <td>2024-01-02</td>\n",
       "      <td>00:00:00</td>\n",
       "      <td>0.86724</td>\n",
       "      <td>0.86753</td>\n",
       "      <td>0.86717</td>\n",
       "      <td>0.86744</td>\n",
       "      <td>52</td>\n",
       "      <td>0</td>\n",
       "      <td>51</td>\n",
       "    </tr>\n",
       "    <tr>\n",
       "      <th>1</th>\n",
       "      <td>2024-01-02</td>\n",
       "      <td>00:15:00</td>\n",
       "      <td>0.86744</td>\n",
       "      <td>0.86768</td>\n",
       "      <td>0.86722</td>\n",
       "      <td>0.86751</td>\n",
       "      <td>75</td>\n",
       "      <td>0</td>\n",
       "      <td>3</td>\n",
       "    </tr>\n",
       "    <tr>\n",
       "      <th>2</th>\n",
       "      <td>2024-01-02</td>\n",
       "      <td>00:30:00</td>\n",
       "      <td>0.86756</td>\n",
       "      <td>0.86781</td>\n",
       "      <td>0.86704</td>\n",
       "      <td>0.86725</td>\n",
       "      <td>153</td>\n",
       "      <td>0</td>\n",
       "      <td>5</td>\n",
       "    </tr>\n",
       "    <tr>\n",
       "      <th>3</th>\n",
       "      <td>2024-01-02</td>\n",
       "      <td>00:45:00</td>\n",
       "      <td>0.86736</td>\n",
       "      <td>0.86744</td>\n",
       "      <td>0.86700</td>\n",
       "      <td>0.86737</td>\n",
       "      <td>95</td>\n",
       "      <td>0</td>\n",
       "      <td>3</td>\n",
       "    </tr>\n",
       "    <tr>\n",
       "      <th>4</th>\n",
       "      <td>2024-01-02</td>\n",
       "      <td>01:00:00</td>\n",
       "      <td>0.86738</td>\n",
       "      <td>0.86738</td>\n",
       "      <td>0.86682</td>\n",
       "      <td>0.86687</td>\n",
       "      <td>299</td>\n",
       "      <td>0</td>\n",
       "      <td>2</td>\n",
       "    </tr>\n",
       "    <tr>\n",
       "      <th>...</th>\n",
       "      <td>...</td>\n",
       "      <td>...</td>\n",
       "      <td>...</td>\n",
       "      <td>...</td>\n",
       "      <td>...</td>\n",
       "      <td>...</td>\n",
       "      <td>...</td>\n",
       "      <td>...</td>\n",
       "      <td>...</td>\n",
       "    </tr>\n",
       "    <tr>\n",
       "      <th>31779</th>\n",
       "      <td>2025-04-11</td>\n",
       "      <td>22:45:00</td>\n",
       "      <td>0.86701</td>\n",
       "      <td>0.86737</td>\n",
       "      <td>0.86690</td>\n",
       "      <td>0.86727</td>\n",
       "      <td>732</td>\n",
       "      <td>0</td>\n",
       "      <td>22</td>\n",
       "    </tr>\n",
       "    <tr>\n",
       "      <th>31780</th>\n",
       "      <td>2025-04-11</td>\n",
       "      <td>23:00:00</td>\n",
       "      <td>0.86727</td>\n",
       "      <td>0.86760</td>\n",
       "      <td>0.86710</td>\n",
       "      <td>0.86753</td>\n",
       "      <td>431</td>\n",
       "      <td>0</td>\n",
       "      <td>21</td>\n",
       "    </tr>\n",
       "    <tr>\n",
       "      <th>31781</th>\n",
       "      <td>2025-04-11</td>\n",
       "      <td>23:15:00</td>\n",
       "      <td>0.86753</td>\n",
       "      <td>0.86830</td>\n",
       "      <td>0.86748</td>\n",
       "      <td>0.86819</td>\n",
       "      <td>268</td>\n",
       "      <td>0</td>\n",
       "      <td>20</td>\n",
       "    </tr>\n",
       "    <tr>\n",
       "      <th>31782</th>\n",
       "      <td>2025-04-11</td>\n",
       "      <td>23:30:00</td>\n",
       "      <td>0.86819</td>\n",
       "      <td>0.86846</td>\n",
       "      <td>0.86793</td>\n",
       "      <td>0.86808</td>\n",
       "      <td>513</td>\n",
       "      <td>0</td>\n",
       "      <td>19</td>\n",
       "    </tr>\n",
       "    <tr>\n",
       "      <th>31783</th>\n",
       "      <td>2025-04-11</td>\n",
       "      <td>23:45:00</td>\n",
       "      <td>0.86806</td>\n",
       "      <td>0.86827</td>\n",
       "      <td>0.86686</td>\n",
       "      <td>0.86686</td>\n",
       "      <td>776</td>\n",
       "      <td>0</td>\n",
       "      <td>16</td>\n",
       "    </tr>\n",
       "  </tbody>\n",
       "</table>\n",
       "<p>31784 rows × 9 columns</p>\n",
       "</div>"
      ],
      "text/plain": [
       "0            date      time   <OPEN>   <HIGH>    <LOW>  <CLOSE>  <TICKVOL>  \\\n",
       "0      2024-01-02  00:00:00  0.86724  0.86753  0.86717  0.86744         52   \n",
       "1      2024-01-02  00:15:00  0.86744  0.86768  0.86722  0.86751         75   \n",
       "2      2024-01-02  00:30:00  0.86756  0.86781  0.86704  0.86725        153   \n",
       "3      2024-01-02  00:45:00  0.86736  0.86744  0.86700  0.86737         95   \n",
       "4      2024-01-02  01:00:00  0.86738  0.86738  0.86682  0.86687        299   \n",
       "...           ...       ...      ...      ...      ...      ...        ...   \n",
       "31779  2025-04-11  22:45:00  0.86701  0.86737  0.86690  0.86727        732   \n",
       "31780  2025-04-11  23:00:00  0.86727  0.86760  0.86710  0.86753        431   \n",
       "31781  2025-04-11  23:15:00  0.86753  0.86830  0.86748  0.86819        268   \n",
       "31782  2025-04-11  23:30:00  0.86819  0.86846  0.86793  0.86808        513   \n",
       "31783  2025-04-11  23:45:00  0.86806  0.86827  0.86686  0.86686        776   \n",
       "\n",
       "0      <VOL>  <SPREAD>  \n",
       "0          0        51  \n",
       "1          0         3  \n",
       "2          0         5  \n",
       "3          0         3  \n",
       "4          0         2  \n",
       "...      ...       ...  \n",
       "31779      0        22  \n",
       "31780      0        21  \n",
       "31781      0        20  \n",
       "31782      0        19  \n",
       "31783      0        16  \n",
       "\n",
       "[31784 rows x 9 columns]"
      ]
     },
     "execution_count": 33,
     "metadata": {},
     "output_type": "execute_result"
    }
   ],
   "source": [
    "df"
   ]
  },
  {
   "cell_type": "markdown",
   "id": "3714671a-790d-40db-a3d9-14e67e3c7c47",
   "metadata": {},
   "source": [
    "## Μετανομασία των στειλών "
   ]
  },
  {
   "cell_type": "code",
   "execution_count": 34,
   "id": "7ba83ba1-8d5d-41bf-a916-ba384533d73e",
   "metadata": {},
   "outputs": [],
   "source": [
    "df.columns = ['date','time','open','high','low','close','tickvol','spread','real_vol']\n",
    "\n"
   ]
  },
  {
   "cell_type": "code",
   "execution_count": 35,
   "id": "0a0ca719-36f2-4fbc-b4f2-411a41678f55",
   "metadata": {},
   "outputs": [
    {
     "data": {
      "text/html": [
       "<div>\n",
       "<style scoped>\n",
       "    .dataframe tbody tr th:only-of-type {\n",
       "        vertical-align: middle;\n",
       "    }\n",
       "\n",
       "    .dataframe tbody tr th {\n",
       "        vertical-align: top;\n",
       "    }\n",
       "\n",
       "    .dataframe thead th {\n",
       "        text-align: right;\n",
       "    }\n",
       "</style>\n",
       "<table border=\"1\" class=\"dataframe\">\n",
       "  <thead>\n",
       "    <tr style=\"text-align: right;\">\n",
       "      <th></th>\n",
       "      <th>date</th>\n",
       "      <th>time</th>\n",
       "      <th>open</th>\n",
       "      <th>high</th>\n",
       "      <th>low</th>\n",
       "      <th>close</th>\n",
       "      <th>tickvol</th>\n",
       "      <th>spread</th>\n",
       "      <th>real_vol</th>\n",
       "    </tr>\n",
       "  </thead>\n",
       "  <tbody>\n",
       "    <tr>\n",
       "      <th>0</th>\n",
       "      <td>2024-01-02</td>\n",
       "      <td>00:00:00</td>\n",
       "      <td>0.86724</td>\n",
       "      <td>0.86753</td>\n",
       "      <td>0.86717</td>\n",
       "      <td>0.86744</td>\n",
       "      <td>52</td>\n",
       "      <td>0</td>\n",
       "      <td>51</td>\n",
       "    </tr>\n",
       "    <tr>\n",
       "      <th>1</th>\n",
       "      <td>2024-01-02</td>\n",
       "      <td>00:15:00</td>\n",
       "      <td>0.86744</td>\n",
       "      <td>0.86768</td>\n",
       "      <td>0.86722</td>\n",
       "      <td>0.86751</td>\n",
       "      <td>75</td>\n",
       "      <td>0</td>\n",
       "      <td>3</td>\n",
       "    </tr>\n",
       "    <tr>\n",
       "      <th>2</th>\n",
       "      <td>2024-01-02</td>\n",
       "      <td>00:30:00</td>\n",
       "      <td>0.86756</td>\n",
       "      <td>0.86781</td>\n",
       "      <td>0.86704</td>\n",
       "      <td>0.86725</td>\n",
       "      <td>153</td>\n",
       "      <td>0</td>\n",
       "      <td>5</td>\n",
       "    </tr>\n",
       "    <tr>\n",
       "      <th>3</th>\n",
       "      <td>2024-01-02</td>\n",
       "      <td>00:45:00</td>\n",
       "      <td>0.86736</td>\n",
       "      <td>0.86744</td>\n",
       "      <td>0.86700</td>\n",
       "      <td>0.86737</td>\n",
       "      <td>95</td>\n",
       "      <td>0</td>\n",
       "      <td>3</td>\n",
       "    </tr>\n",
       "    <tr>\n",
       "      <th>4</th>\n",
       "      <td>2024-01-02</td>\n",
       "      <td>01:00:00</td>\n",
       "      <td>0.86738</td>\n",
       "      <td>0.86738</td>\n",
       "      <td>0.86682</td>\n",
       "      <td>0.86687</td>\n",
       "      <td>299</td>\n",
       "      <td>0</td>\n",
       "      <td>2</td>\n",
       "    </tr>\n",
       "    <tr>\n",
       "      <th>...</th>\n",
       "      <td>...</td>\n",
       "      <td>...</td>\n",
       "      <td>...</td>\n",
       "      <td>...</td>\n",
       "      <td>...</td>\n",
       "      <td>...</td>\n",
       "      <td>...</td>\n",
       "      <td>...</td>\n",
       "      <td>...</td>\n",
       "    </tr>\n",
       "    <tr>\n",
       "      <th>31779</th>\n",
       "      <td>2025-04-11</td>\n",
       "      <td>22:45:00</td>\n",
       "      <td>0.86701</td>\n",
       "      <td>0.86737</td>\n",
       "      <td>0.86690</td>\n",
       "      <td>0.86727</td>\n",
       "      <td>732</td>\n",
       "      <td>0</td>\n",
       "      <td>22</td>\n",
       "    </tr>\n",
       "    <tr>\n",
       "      <th>31780</th>\n",
       "      <td>2025-04-11</td>\n",
       "      <td>23:00:00</td>\n",
       "      <td>0.86727</td>\n",
       "      <td>0.86760</td>\n",
       "      <td>0.86710</td>\n",
       "      <td>0.86753</td>\n",
       "      <td>431</td>\n",
       "      <td>0</td>\n",
       "      <td>21</td>\n",
       "    </tr>\n",
       "    <tr>\n",
       "      <th>31781</th>\n",
       "      <td>2025-04-11</td>\n",
       "      <td>23:15:00</td>\n",
       "      <td>0.86753</td>\n",
       "      <td>0.86830</td>\n",
       "      <td>0.86748</td>\n",
       "      <td>0.86819</td>\n",
       "      <td>268</td>\n",
       "      <td>0</td>\n",
       "      <td>20</td>\n",
       "    </tr>\n",
       "    <tr>\n",
       "      <th>31782</th>\n",
       "      <td>2025-04-11</td>\n",
       "      <td>23:30:00</td>\n",
       "      <td>0.86819</td>\n",
       "      <td>0.86846</td>\n",
       "      <td>0.86793</td>\n",
       "      <td>0.86808</td>\n",
       "      <td>513</td>\n",
       "      <td>0</td>\n",
       "      <td>19</td>\n",
       "    </tr>\n",
       "    <tr>\n",
       "      <th>31783</th>\n",
       "      <td>2025-04-11</td>\n",
       "      <td>23:45:00</td>\n",
       "      <td>0.86806</td>\n",
       "      <td>0.86827</td>\n",
       "      <td>0.86686</td>\n",
       "      <td>0.86686</td>\n",
       "      <td>776</td>\n",
       "      <td>0</td>\n",
       "      <td>16</td>\n",
       "    </tr>\n",
       "  </tbody>\n",
       "</table>\n",
       "<p>31784 rows × 9 columns</p>\n",
       "</div>"
      ],
      "text/plain": [
       "             date      time     open     high      low    close  tickvol  \\\n",
       "0      2024-01-02  00:00:00  0.86724  0.86753  0.86717  0.86744       52   \n",
       "1      2024-01-02  00:15:00  0.86744  0.86768  0.86722  0.86751       75   \n",
       "2      2024-01-02  00:30:00  0.86756  0.86781  0.86704  0.86725      153   \n",
       "3      2024-01-02  00:45:00  0.86736  0.86744  0.86700  0.86737       95   \n",
       "4      2024-01-02  01:00:00  0.86738  0.86738  0.86682  0.86687      299   \n",
       "...           ...       ...      ...      ...      ...      ...      ...   \n",
       "31779  2025-04-11  22:45:00  0.86701  0.86737  0.86690  0.86727      732   \n",
       "31780  2025-04-11  23:00:00  0.86727  0.86760  0.86710  0.86753      431   \n",
       "31781  2025-04-11  23:15:00  0.86753  0.86830  0.86748  0.86819      268   \n",
       "31782  2025-04-11  23:30:00  0.86819  0.86846  0.86793  0.86808      513   \n",
       "31783  2025-04-11  23:45:00  0.86806  0.86827  0.86686  0.86686      776   \n",
       "\n",
       "       spread  real_vol  \n",
       "0           0        51  \n",
       "1           0         3  \n",
       "2           0         5  \n",
       "3           0         3  \n",
       "4           0         2  \n",
       "...       ...       ...  \n",
       "31779       0        22  \n",
       "31780       0        21  \n",
       "31781       0        20  \n",
       "31782       0        19  \n",
       "31783       0        16  \n",
       "\n",
       "[31784 rows x 9 columns]"
      ]
     },
     "execution_count": 35,
     "metadata": {},
     "output_type": "execute_result"
    }
   ],
   "source": [
    "df"
   ]
  },
  {
   "cell_type": "markdown",
   "id": "281bd648-d44b-4935-bfac-343902a43a9e",
   "metadata": {},
   "source": [
    "## Δημιουργία γραφήματος για το κλείσιμο της τιμής"
   ]
  },
  {
   "cell_type": "code",
   "execution_count": 11,
   "id": "89546f46-88a8-453d-acc9-359fa910f1e9",
   "metadata": {
    "scrolled": true
   },
   "outputs": [
    {
     "data": {
      "text/plain": [
       "[<matplotlib.lines.Line2D at 0x18747fd3ed0>]"
      ]
     },
     "execution_count": 11,
     "metadata": {},
     "output_type": "execute_result"
    },
    {
     "data": {
      "image/png": "[encoded data removed]",
      "text/plain": [
       "<Figure size 640x480 with 1 Axes>"
      ]
     },
     "metadata": {},
     "output_type": "display_data"
    }
   ],
   "source": [
    "plt.plot(df.close)"
   ]
  },
  {
   "cell_type": "markdown",
   "id": "952388d3-e0da-4759-ad4b-91fddd2f2469",
   "metadata": {},
   "source": [
    "## Κλασική “sliding-window” μετατροπή της μονοδιάστατης χρονοσειράς σε πίνακα εισόδου X διαστάσεων N×50 και αντίστοιχο διάνυσμα στόχων y\n",
    "## 1. Δημιουργία παραθύρων\n",
    "### Ολισθαίνουμε ένα παράθυρο μήκους 51 επάνω στη σειρά:\n",
    "### Είσοδοι: οι πρώτες 50 τιμές.\n",
    "### Στόχος: η 51η τιμή.\n",
    "## 2. Δομές δεδομένων\n",
    "### Το X_ins γίνεται λίστα από μονοδιάστατους πίνακες (arrays), καθένας σχήματος (50,)\n",
    "### Το y_targets είναι λίστα με αριθμούς (scalars) — η “επόμενη” τιμή κλεισίματος που θέλουμε να προβλέψουμε\n",
    "### Το prices κρατάει το τελευταίο στοιχείο κάθε παραθύρου—χρήσιμο για κανονικοποίηση ή υπολογισμό απόδοσης σε σχέση με την πιο πρόσφατη τιμή.\n",
    "\n",
    "\n"
   ]
  },
  {
   "cell_type": "code",
   "execution_count": 36,
   "id": "9712f1c3-21ae-4e6d-86e6-4513d08faeec",
   "metadata": {
    "scrolled": true
   },
   "outputs": [],
   "source": [
    "# Διαχωρισμός δεδομένων σε είσοδοι (inputs) και στόχοι (outputs) για tuning υπερπαραμέτρων\n",
    "y_targets = list()\n",
    "X_ins = list()\n",
    "prices = list()\n",
    "# Δημιουργούμε sliding windows των 51 τιμών: 50 για είσοδο + 1 για στόχο\n",
    "for i in range(len(df)):\n",
    "    end = i+50+1\n",
    "    if end > len(df):\n",
    "        break # σταματάμε όταν δεν υπάρχουν άλλα πλήρη παράθυρα\n",
    "        \n",
    "# Παίρνουμε το slice των 51 τιμών από το column 'close'\n",
    "    seq1 = df.close[i:end]\n",
    "    seq1 = seq1.reset_index(drop=True)\n",
    "    \n",
    "# Ο στόχος είναι η τελευταία τιμή του slice (51η)\n",
    "    y_targets.append(seq1.iloc[-1])\n",
    "# Η είσοδος είναι οι πρώτες 50 τιμές\n",
    "    seq = seq1[:-1]\n",
    "# Αποθηκεύουμε την τελευταία τιμή της εισόδου (συνήθως για κανονικοποίηση)\n",
    "    price = seq.iloc[-1]\n",
    "    prices.append(price)\n",
    "    seq = np.array(seq)\n",
    "    seq = np.round(seq,5)\n",
    "    X_ins.append(seq)\n",
    "    \n",
    "# Τελικά παίρνουμε έναν πίνακα X με σχήμα (n_samples, 50)\n",
    "X = np.array(X_ins)\n",
    "\n",
    "\n"
   ]
  },
  {
   "cell_type": "markdown",
   "id": "b79bdabb-c748-4881-98ab-be2f15228d2d",
   "metadata": {},
   "source": [
    "### Αυτό σχεδιάζει το 400ό παράθυρο εισόδου (δηλαδή το 50-βηματικό ιστορικό τιμών από t=400 έως t=449), \n",
    "### ώστε να μπορείτε να δείτε πώς μοιάζει ένα τυπικό δείγμα εκπαίδευσης.\n"
   ]
  },
  {
   "cell_type": "code",
   "execution_count": 38,
   "id": "f6bb9079-8669-4a41-8b5a-0b22e77e54fc",
   "metadata": {
    "scrolled": true
   },
   "outputs": [
    {
     "data": {
      "text/plain": [
       "[<matplotlib.lines.Line2D at 0x187488e0550>]"
      ]
     },
     "execution_count": 38,
     "metadata": {},
     "output_type": "execute_result"
    },
    {
     "data": {
      "image/png": "[encoded data removed]",
      "text/plain": [
       "<Figure size 640x480 with 1 Axes>"
      ]
     },
     "metadata": {},
     "output_type": "display_data"
    }
   ],
   "source": [
    "plt.plot(X[400])"
   ]
  },
  {
   "cell_type": "markdown",
   "id": "6f6c3e69-bb7a-4219-8c0e-9cc5917ad6eb",
   "metadata": {},
   "source": [
    "## Διαχωρισμός σε training set & test set\n",
    "### Το πρώτο 80% θα χρησιμοποιηθεί για το training set\n"
   ]
  },
  {
   "cell_type": "code",
   "execution_count": 39,
   "id": "33905eda-14ef-4d01-a7e7-9d285dd6b796",
   "metadata": {},
   "outputs": [],
   "source": [
    "#Διαχωρισμός σε training set και test set\n",
    "ts = round(len(X)*0.8)\n",
    "#inputs\n",
    "# το πρώτο 80% train set και το υπόλοιπο test set\n",
    "train_set = X[:ts]\n",
    "test_set = X[ts:]\n",
    "#outputs\n",
    "#\n",
    "y_train = y_targets[:ts]\n",
    "y_test = y_targets[ts:]\n",
    "\n",
    "# ο λόγος που χρησιμοποιούμε numpy vectors είναι γιατί πολλές βιβλιοήκες ML τα χρησιμοποιούν\n",
    "y_train = np.array(y_train)\n",
    "y_test = np.array(y_test)"
   ]
  },
  {
   "cell_type": "markdown",
   "id": "35ebc013-5a96-4d4e-8c90-b65c0dbfb8e2",
   "metadata": {},
   "source": [
    "## Εισάγουμε κάποιες βιβλιοθήκες\n",
    "### 1) from sklearn.linear_model import Ridge\n",
    "### Η παλινδρόμηση Ridge θα είναι το read‐out layer: ένα γραμμικό μοντέλο με L₂ κανονικοποίηση,\n",
    "### που μαθαίνει να χαρτογραφεί τις καταστάσεις του reservoir στις τιμές‐στόχους.\n",
    "### 2) from sklearn.model_selection import GridSearchCV, TimeSeriesSplit\n",
    "### Το GridSearchCV εκτελεί εξαντλητική αναζήτηση σε πλέγμα υπερπαραμέτρων\n",
    "### (π.χ. διαφορετικά spectral_radius, leakage κ.λπ.), χρησιμοποιώντας cross‐validation\n",
    "### για να επιλέξει τον καλύτερο συνδυασμό.\n",
    "### Το TimeSeriesSplit είναι καταμεριστής cross‐validation που διατηρεί τη χρονολογική σειρά\n",
    "### (χωρίς τυχαιοποίηση), παρέχοντας σωστά train/test folds για χρονοσειρές.\n",
    "### 3) from sklearn.metrics import make_scorer, mean_squared_error\n",
    "### Το mean_squared_error είναι η συνάρτηση κόστους (loss) που θα ελαχιστοποιήσετε.\n",
    "### Το make_scorer(mean_squared_error, greater_is_better=False) το “τυλίγει”\n",
    "### ώστε να μπορεί να περαστεί στο GridSearchCV (απαιτεί αντικείμενο scorer).\n",
    "### 4) from pyrcn.model_selection import SequentialSearchCV\n",
    "### Ένας PyRCN‐specific orchestrator που εκτελεί διαδοχικά βήματα tuning\n",
    "### (π.χ. πρώτα input_scaling, μετά spectral_radius κ.λπ.), σταθεροποιώντας \n",
    "### κάθε φορά τις καλύτερες παραμέτρους.\n",
    "### 5) from pyrcn.metrics import mean_squared_error\n",
    "### Η δική του έκδοση του MSE στο PyRCN (ίδια μαθηματικά αλλά συμβατή με το API).\n",
    "### 6) from pyrcn.echo_state_network import ESNRegressor\n",
    "### Η κύρια κλάση που υλοποιεί το Echo State Network για regression.\n",
    "### Τη δημιουργείτε με τα blocks InputToNode και NodeToNode, συν ένα read‐out (Ridge).\n",
    "### 7) from pyrcn.base.blocks import InputToNode, NodeToNode\n",
    "### Το InputToNode καθορίζει πώς οι είσοδοι τροφοδοτούνται (και κλιμακώνονται)\n",
    "### σε κάθε νευρώνα του reservoir.\n",
    "### Το NodeToNode καθορίζει τις εσωτερικές επαναληπτικές συνδέσεις\n",
    "### (μέγεθος, spectral radius, leakage, sparsity κ.λπ.).\n",
    "### 8) from matplotlib import pyplot as plt\n",
    "### Βασική βιβλιοθήκη σχεδιασμού γραφημάτων για οπτικοποίηση:\n",
    "### καμπύλες κόστους, προβλέψεις vs πραγματικά, RMSE vs υπερπαράμετροι κ.λπ.\n"
   ]
  },
  {
   "cell_type": "code",
   "execution_count": 15,
   "id": "eaa2e12c-f796-44e7-81db-c12ef3539991",
   "metadata": {
    "scrolled": true
   },
   "outputs": [],
   "source": [
    "from sklearn.linear_model import Ridge\n",
    "from sklearn.model_selection import GridSearchCV\n",
    "from sklearn.metrics import make_scorer,mean_squared_error\n",
    "from sklearn.model_selection import TimeSeriesSplit, GridSearchCV\n",
    "\n",
    "from pyrcn.model_selection import SequentialSearchCV\n",
    "from pyrcn.metrics import mean_squared_error\n",
    "from pyrcn.echo_state_network import ESNRegressor\n",
    "from pyrcn.base.blocks import InputToNode, NodeToNode\n",
    "from sklearn.metrics import make_scorer,mean_squared_error\n",
    "\n",
    "from matplotlib import pyplot as plt"
   ]
  },
  {
   "cell_type": "markdown",
   "id": "998ddd58-ca3d-46e7-9e58-804e5472b3b2",
   "metadata": {},
   "source": [
    "# Βήμα 1: Αρχική ρύθμιση και Grid Search του ESN"
   ]
  },
  {
   "cell_type": "code",
   "execution_count": 41,
   "id": "22d75c97-7611-4022-85ef-2a7a58b98c8f",
   "metadata": {},
   "outputs": [
    {
     "name": "stdout",
     "output_type": "stream",
     "text": [
      "Fitting 5 folds for each of 8 candidates, totalling 40 fits\n",
      "[CV 1/5] END input_scaling=0.1, leakage=0.1, spectral_radius=0.1;, score=-0.000 total time=   2.2s\n",
      "[CV 2/5] END input_scaling=0.1, leakage=0.1, spectral_radius=0.1;, score=-0.000 total time=   2.2s\n",
      "[CV 3/5] END input_scaling=0.1, leakage=0.1, spectral_radius=0.1;, score=-0.000 total time=   2.2s\n",
      "[CV 4/5] END input_scaling=0.1, leakage=0.1, spectral_radius=0.1;, score=-0.000 total time=   2.0s\n",
      "[CV 5/5] END input_scaling=0.1, leakage=0.1, spectral_radius=0.1;, score=-0.000 total time=   2.3s\n",
      "[CV 1/5] END input_scaling=0.1, leakage=0.1, spectral_radius=0.2;, score=-0.000 total time=   2.1s\n",
      "[CV 2/5] END input_scaling=0.1, leakage=0.1, spectral_radius=0.2;, score=-0.000 total time=   2.0s\n",
      "[CV 3/5] END input_scaling=0.1, leakage=0.1, spectral_radius=0.2;, score=-0.000 total time=   2.1s\n",
      "[CV 4/5] END input_scaling=0.1, leakage=0.1, spectral_radius=0.2;, score=-0.000 total time=   1.9s\n",
      "[CV 5/5] END input_scaling=0.1, leakage=0.1, spectral_radius=0.2;, score=-0.000 total time=   2.2s\n",
      "[CV 1/5] END input_scaling=0.1, leakage=0.2, spectral_radius=0.1;, score=-0.000 total time=   2.2s\n",
      "[CV 2/5] END input_scaling=0.1, leakage=0.2, spectral_radius=0.1;, score=-0.000 total time=   2.2s\n",
      "[CV 3/5] END input_scaling=0.1, leakage=0.2, spectral_radius=0.1;, score=-0.000 total time=   2.1s\n",
      "[CV 4/5] END input_scaling=0.1, leakage=0.2, spectral_radius=0.1;, score=-0.000 total time=   2.0s\n",
      "[CV 5/5] END input_scaling=0.1, leakage=0.2, spectral_radius=0.1;, score=-0.000 total time=   2.2s\n",
      "WARNING: No convergence! Returning possibly invalid values!!!\n",
      "[CV 1/5] END input_scaling=0.1, leakage=0.2, spectral_radius=0.2;, score=-0.000 total time=   2.4s\n",
      "[CV 2/5] END input_scaling=0.1, leakage=0.2, spectral_radius=0.2;, score=-0.000 total time=   2.4s\n",
      "[CV 3/5] END input_scaling=0.1, leakage=0.2, spectral_radius=0.2;, score=-0.000 total time=   1.9s\n",
      "[CV 4/5] END input_scaling=0.1, leakage=0.2, spectral_radius=0.2;, score=-0.000 total time=   1.9s\n",
      "[CV 5/5] END input_scaling=0.1, leakage=0.2, spectral_radius=0.2;, score=-0.000 total time=   2.0s\n",
      "[CV 1/5] END input_scaling=0.2, leakage=0.1, spectral_radius=0.1;, score=-0.000 total time=   2.3s\n",
      "[CV 2/5] END input_scaling=0.2, leakage=0.1, spectral_radius=0.1;, score=-0.000 total time=   2.6s\n",
      "[CV 3/5] END input_scaling=0.2, leakage=0.1, spectral_radius=0.1;, score=-0.000 total time=   2.5s\n",
      "[CV 4/5] END input_scaling=0.2, leakage=0.1, spectral_radius=0.1;, score=-0.000 total time=   2.1s\n",
      "[CV 5/5] END input_scaling=0.2, leakage=0.1, spectral_radius=0.1;, score=-0.000 total time=   2.7s\n",
      "[CV 1/5] END input_scaling=0.2, leakage=0.1, spectral_radius=0.2;, score=-0.000 total time=   2.3s\n",
      "[CV 2/5] END input_scaling=0.2, leakage=0.1, spectral_radius=0.2;, score=-0.000 total time=   2.5s\n",
      "[CV 3/5] END input_scaling=0.2, leakage=0.1, spectral_radius=0.2;, score=-0.000 total time=   2.1s\n",
      "[CV 4/5] END input_scaling=0.2, leakage=0.1, spectral_radius=0.2;, score=-0.000 total time=   2.2s\n",
      "[CV 5/5] END input_scaling=0.2, leakage=0.1, spectral_radius=0.2;, score=-0.000 total time=   2.1s\n",
      "[CV 1/5] END input_scaling=0.2, leakage=0.2, spectral_radius=0.1;, score=-0.000 total time=   2.1s\n",
      "[CV 2/5] END input_scaling=0.2, leakage=0.2, spectral_radius=0.1;, score=-0.000 total time=   2.0s\n",
      "[CV 3/5] END input_scaling=0.2, leakage=0.2, spectral_radius=0.1;, score=-0.000 total time=   2.1s\n",
      "[CV 4/5] END input_scaling=0.2, leakage=0.2, spectral_radius=0.1;, score=-0.000 total time=   2.0s\n",
      "[CV 5/5] END input_scaling=0.2, leakage=0.2, spectral_radius=0.1;, score=-0.000 total time=   2.0s\n",
      "[CV 1/5] END input_scaling=0.2, leakage=0.2, spectral_radius=0.2;, score=-0.000 total time=   2.4s\n",
      "[CV 2/5] END input_scaling=0.2, leakage=0.2, spectral_radius=0.2;, score=-0.000 total time=   2.4s\n",
      "[CV 3/5] END input_scaling=0.2, leakage=0.2, spectral_radius=0.2;, score=-0.000 total time=   2.2s\n",
      "[CV 4/5] END input_scaling=0.2, leakage=0.2, spectral_radius=0.2;, score=-0.000 total time=   2.1s\n",
      "[CV 5/5] END input_scaling=0.2, leakage=0.2, spectral_radius=0.2;, score=-0.000 total time=   2.3s\n",
      "SequentialSearchCV(estimator=ESNRegressor(input_to_node=InputToNode(hidden_layer_size=400,\n",
      "                                                                    input_activation='identity',\n",
      "                                                                    input_scaling=0.1),\n",
      "                                          node_to_node=NodeToNode(hidden_layer_size=400,\n",
      "                                                                  k_rec=10,\n",
      "                                                                  leakage=0.2,\n",
      "                                                                  sparsity=0.025,\n",
      "                                                                  spectral_radius=0.1),\n",
      "                                          regressor=Ridge(alpha=1e-05,\n",
      "                                                          random_state=42),\n",
      "                                          requires_sequence=False),\n",
      "                   searches=[('step1',\n",
      "                              <class 'sklearn.model_selection._search.GridSearchCV'>,\n",
      "                              {'input_scaling': (0.1, 0.2),\n",
      "                               'leakage': (0.1, 0.2),\n",
      "                               'spectral_radius': (0.1, 0.2)},\n",
      "                              {'n_jobs': 1,\n",
      "                               'scoring': make_scorer(mean_squared_error, greater_is_better=False, response_method='predict'),\n",
      "                               'verbose': 5})])\n"
     ]
    }
   ],
   "source": [
    "# Απενεργοποιούμε όλες τις προειδοποιήσεις για καθαρό output\n",
    "import warnings\n",
    "warnings.filterwarnings('ignore')\n",
    "\n",
    "# initially_fixed_params: λεξικό με σταθερές παραμέτρους του ESN για αυτό το βήμα.\n",
    "#   hidden_layer_size=400      : αριθμός κόμβων στο reservoir\n",
    "#   input_activation='identity': χωρίς μη γραμμικό μετασχηματισμό εισόδου\n",
    "#   reservoir_activation='tanh': ενεργοποίηση μέσα στο reservoir\n",
    "#   bidirectional=False        : καμία οπισθοδρόμηση (μόνο προς τα εμπρός)\n",
    "#   alpha=1e-5                 : δύναμη κανονικοποίησης Ridge για το read-out\n",
    "#   k_rec=10                   : κάθε κόμβος έχει 10 επαναληπτικές συνδέσεις\n",
    "#   random_state=42            : αναπαραγωγιμότητα τυχαίων βαρών\n",
    "#   requires_sequence=False    : δεν απαιτείται η ολόκληρη ακολουθία κατά το fit\n",
    "initially_fixed_params = {\n",
    "    'hidden_layer_size': 400,\n",
    "    'input_activation': 'identity',\n",
    "    'reservoir_activation': 'tanh',\n",
    "    'bidirectional': False,\n",
    "    'alpha': 1e-5,\n",
    "    'k_rec': 10,\n",
    "    'random_state': 42,\n",
    "    'requires_sequence': False\n",
    "}\n",
    "\n",
    "# step1_esn_params: grid υπερπαραμέτρων για το πρώτο tuning βήμα\n",
    "#   → συνολικά 2×2×2 = 8 δυνατότητες\n",
    "step1_esn_params = {\n",
    "    'input_scaling':  (0.1, 0.2),\n",
    "    'spectral_radius': (0.1, 0.2),\n",
    "    'leakage':         (0.1, 0.2)\n",
    "}\n",
    "\n",
    "# Μετατρέπουμε το MSE σε scorer για το GridSearchCV, ώστε να το ελαχιστοποιεί\n",
    "from sklearn.metrics import make_scorer, mean_squared_error\n",
    "scorer = make_scorer(score_func=mean_squared_error, greater_is_better=False)\n",
    "\n",
    "# Επιπλέον kwargs για το GridSearchCV:\n",
    "#   verbose=5 : εμφάνιση προόδου ανά fold\n",
    "#   scoring=scorer : χρήση του MSE scorer\n",
    "#   n_jobs=1 : σειριακή εκτέλεση (θέσε -1 για παράλληλη)\n",
    "kwargs_step1 = {\n",
    "    'verbose': 5,\n",
    "    'scoring': scorer,\n",
    "    'n_jobs': 1\n",
    "}\n",
    "\n",
    "# Καθορίζουμε το βήμα αναζήτησης:\n",
    "#   ('βημα', ΜέθοδοςCV, grid παραμέτρων, επιπλέον kwargs)\n",
    "searches = [\n",
    "    ('step1', GridSearchCV, step1_esn_params, kwargs_step1)\n",
    "]\n",
    "\n",
    "# Δημιουργούμε το ESNRegressor με Ridge read-out και τις σταθερές παραμέτρους\n",
    "from sklearn.linear_model import Ridge\n",
    "from pyrcn.echo_state_network import ESNRegressor\n",
    "esn = ESNRegressor(regressor=Ridge(), **initially_fixed_params)\n",
    "\n",
    "# Εκτελούμε SequentialSearchCV: \n",
    "#   1) παίρνει το base ESN\n",
    "#   2) τρέχει το 'step1' grid search (8 συνδυασμοί) με TimeSeriesSplit\n",
    "#   3) επιλέγει τις βέλτιστες input_scaling, spectral_radius, leakage\n",
    "from pyrcn.model_selection import SequentialSearchCV\n",
    "esn_opti = SequentialSearchCV(esn, searches=searches).fit(train_set, y_train)\n",
    "\n",
    "# Εμφανίζουμε το βελτιστοποιημένο ESN με τις επιλεγμένες παραμέτρους\n",
    "print(esn_opti)"
   ]
  },
  {
   "cell_type": "code",
   "execution_count": 17,
   "id": "c2439d66-1e72-4fe3-80db-a6a6bf8b50bb",
   "metadata": {},
   "outputs": [],
   "source": [
    "## Καθορίζουμε την λίστα υποψήγιων input_scaling τιμών\n",
    "in_scaling = [0.1,0.2,0.3,0.4]  # θα περιηγιθούμε σε αύτες για να βρούμε την καλύτερη τιμή"
   ]
  },
  {
   "cell_type": "code",
   "execution_count": 18,
   "id": "4242e57d-0947-44e4-9c11-84c9a4592e57",
   "metadata": {},
   "outputs": [
    {
     "name": "stdout",
     "output_type": "stream",
     "text": [
      "0.0002739311923701075\n",
      "0.00023730451048991412\n",
      "0.00023728545875529938\n",
      "0.00023721347165225738\n"
     ]
    }
   ],
   "source": [
    "# Δημιουργούμε μια λίστα για να αποθηκεύσουμε τα RMSE για κάθε input_scaling\n",
    "rmses = list()\n",
    "# Βρόχος πάνω σε όλες τις τιμές του in_scaling\n",
    "for i in range(len(in_scaling)):\n",
    "    in_s = in_scaling[i]  # τρέχουσα τιμή input_scaling\n",
    "\n",
    "    # Ορίζουμε το μπλοκ που τροφοδοτεί το reservoir με είσοδο\n",
    "\n",
    "    base_input_to_nodes = InputToNode(\n",
    "        hidden_layer_size=400,        # πλήθος κόμβων reservoir\n",
    "        input_activation='identity',  # χωρίς μη γραμμική ενεργοποίηση στην είσοδο\n",
    "        k_in=1,                       # κάθε είσοδος συνδέεται με κάθε κόμβο\n",
    "        input_scaling=in_s,           # κλιμάκωση εισόδου\n",
    "        bias_scaling=0.0              # χωρίς bias\n",
    "    )\n",
    "    \n",
    "     # Ορίζουμε τις επαναληπτικές συνδέσεις του reservoir\n",
    "    base_nodes_to_nodes = NodeToNode(\n",
    "        hidden_layer_size=400, # ίδιο πλήθος κόμβων\n",
    "        spectral_radius=0.2,   # σταθερή φασματική ακτίνα\n",
    "        leakage=0.2,           # σταθερός ρυθμός διαρροής\n",
    "        k_rec=10               # κάθε κόμβος συνδέεται με 10 τυχαίους\n",
    "    )\n",
    "     \n",
    "    # Δημιουργούμε το ESN με Ridge read-out\n",
    "    esn = ESNRegressor(\n",
    "        input_to_node=base_input_to_nodes,\n",
    "        node_to_node=base_nodes_to_nodes,\n",
    "        regressor=Ridge(alpha=1e-8)\n",
    "    )\n",
    "    \n",
    "    # Εκπαιδεύουμε το ESN πάνω στο training set\n",
    "    esn.fit(train_set, y_train)\n",
    "    \n",
    "    # Παράγουμε προβλέψεις για το ίδιο training set\n",
    "    predictions = esn.predict(train_set)\n",
    "    \n",
    "    # Υπολογίζουμε το MSE και έπειτα το RMSE\n",
    "    MSE = mean_squared_error(predictions,y_train)\n",
    "    rmse = math.sqrt(MSE)\n",
    "        \n",
    "    # Εκτυπώνουμε και αποθηκεύουμε το RMSE\n",
    "    print(rmse)\n",
    "    rmses.append(rmse)\n",
    "    "
   ]
  },
  {
   "cell_type": "code",
   "execution_count": 19,
   "id": "aa63e57b-2684-489e-8324-20dfbd0d4645",
   "metadata": {},
   "outputs": [
    {
     "data": {
      "text/plain": [
       "[<matplotlib.lines.Line2D at 0x18749080550>]"
      ]
     },
     "execution_count": 19,
     "metadata": {},
     "output_type": "execute_result"
    },
    {
     "data": {
      "image/png": "[encoded data removed]",
      "text/plain": [
       "<Figure size 640x480 with 1 Axes>"
      ]
     },
     "metadata": {},
     "output_type": "display_data"
    }
   ],
   "source": [
    "plt.title(\"Input Scaling vs RMSE\")\n",
    "plt.xlabel(\"Input Scaling\")\n",
    "plt.ylabel(\"RMSE\")\n",
    "plt.plot(in_scaling,rmses)"
   ]
  },
  {
   "cell_type": "markdown",
   "id": "86e7d58d-b19a-402b-a151-80fd7e9f3418",
   "metadata": {},
   "source": [
    "## Φτιαχνουμε μια λίστα με τις πιθανές τιμές των κόμβων"
   ]
  },
  {
   "cell_type": "code",
   "execution_count": 20,
   "id": "e8f8e42d-f772-4c44-a3e7-d5140bc2bc88",
   "metadata": {},
   "outputs": [],
   "source": [
    "nodes = [200,400,800,1000]"
   ]
  },
  {
   "cell_type": "markdown",
   "id": "44be7033-eab3-4bb7-bfd8-80db1ab5c4c8",
   "metadata": {},
   "source": [
    "## Θέλουμε να δούμε πώς η απόδοση του ESN (μετρούμενη ως RMSE στο training set) αλλάζει καθώς αλλάζουμε το πλήθος των νευρώνων (nodes) στο εσωτερικό reservoir.\n",
    "\n",
    "## Λιγότεροι κόμβοι → μικρότερη χωρητικότητα μνήμης, λιγότερο πολύπλοκο μοντέλο\n",
    "\n",
    "## Περισσότεροι κόμβοι → περισσότερη χωρητικότητα, αλλά και κίνδυνος υπερεκπαίδευσης ή μεγαλύτερο κόστος υπολογισμού\n",
    "\n"
   ]
  },
  {
   "cell_type": "code",
   "execution_count": 44,
   "id": "1f70e908-c9df-4559-879f-4c00424fb792",
   "metadata": {},
   "outputs": [
    {
     "name": "stdout",
     "output_type": "stream",
     "text": [
      "n_nodes=200 → RMSE=0.00023731758926360470\n",
      "n_nodes=400 → RMSE=0.00023720672774833111\n",
      "n_nodes=800 → RMSE=0.00023699207347179139\n",
      "n_nodes=1000 → RMSE=0.00023692027457200698\n"
     ]
    }
   ],
   "source": [
    "# Λίστα με τα διαφορετικά μεγέθη του reservoir (number of nodes) που θα δοκιμάσουμε\n",
    "nodes = [200, 400, 800, 1000]\n",
    "\n",
    "# Εδώ θα αποθηκεύσουμε τα RMSE για κάθε μέγεθος\n",
    "rmses = []\n",
    "\n",
    "# Βρόχος πάνω σε κάθε αριθμό κόμβων\n",
    "for i in range(len(nodes)):\n",
    "    n_nodes = nodes[i]  # τρέχουσα τιμή hidden_layer_size\n",
    "\n",
    "    # 1) Ορισμός του μπλοκ εισόδου με n_nodes νευρώνες\n",
    "    base_input_to_nodes = InputToNode(\n",
    "        hidden_layer_size=n_nodes,       # πλήθος νευρώνων\n",
    "        input_activation='identity',     # χωρίς μη-γραμμικότητα στην είσοδο\n",
    "        k_in=1,                          # πλήρης σύνδεση input → κάθε νευρώνα\n",
    "        input_scaling=0.4,               # σταθερή κλιμάκωση εισόδου\n",
    "        bias_scaling=0.0                 # χωρίς bias\n",
    "    )\n",
    "\n",
    "    # 2) Ορισμός του μπλοκ επαναληπτικών συνδέσεων (reservoir)\n",
    "    base_nodes_to_nodes = NodeToNode(\n",
    "        hidden_layer_size=n_nodes,  # ίδιο πλήθος νευρώνων\n",
    "        spectral_radius=0.2,        # σταθερή φασματική ακτίνα\n",
    "        leakage=0.2,                # σταθερή διαρροή μνήμης\n",
    "        k_rec=10                    # 10 τυχαίες επαναληπτικές συνδέσεις ανά νευρώνα\n",
    "    )\n",
    "\n",
    "    # 3) Κατασκευή ESNRegressor με Ridge read‐out\n",
    "    esn = ESNRegressor(\n",
    "        input_to_node=base_input_to_nodes,\n",
    "        node_to_node=base_nodes_to_nodes,\n",
    "        regressor=Ridge(alpha=1e-8)  # πολύ ελαφριά κανονικοποίηση\n",
    "    )\n",
    "\n",
    "    # 4) Εκπαίδευση του ESN στο training set\n",
    "    esn.fit(train_set, y_train)\n",
    "\n",
    "    # 5) Πρόβλεψη πάνω στο ίδιο training set\n",
    "    predictions = esn.predict(train_set)\n",
    "\n",
    "    # 6) Υπολογισμός MSE και RMSE\n",
    "    MSE = mean_squared_error(predictions, y_train)\n",
    "    rmse = math.sqrt(MSE)\n",
    "\n",
    "    # 7) Εμφάνιση και αποθήκευση του αποτελέσματος\n",
    "    print(f\"n_nodes={n_nodes} → RMSE={rmse:.20f}\")\n",
    "    rmses.append(rmse)\n"
   ]
  },
  {
   "cell_type": "markdown",
   "id": "633f194c-148d-4542-a80d-d6f48633e9f8",
   "metadata": {},
   "source": [
    "## Γράφημα που δείχνει ποσο μεταβάλεται το σφάλμα με βάση των αριθμών των κόμβων που επιλέχθηκε"
   ]
  },
  {
   "cell_type": "code",
   "execution_count": 45,
   "id": "141772dd-05a2-4004-be5f-222070b166e3",
   "metadata": {},
   "outputs": [
    {
     "data": {
      "text/plain": [
       "[<matplotlib.lines.Line2D at 0x187489079d0>]"
      ]
     },
     "execution_count": 45,
     "metadata": {},
     "output_type": "execute_result"
    },
    {
     "data": {
      "image/png": "[encoded data removed]",
      "text/plain": [
       "<Figure size 640x480 with 1 Axes>"
      ]
     },
     "metadata": {},
     "output_type": "display_data"
    }
   ],
   "source": [
    "plt.title(\"Number of Nodes vs RMSE\")\n",
    "plt.xlabel(\"Number of Nodes\")\n",
    "plt.ylabel(\"RMSE\")\n",
    "plt.plot(nodes,rmses)"
   ]
  },
  {
   "cell_type": "markdown",
   "id": "1016cf4c-80f1-45c8-b4b0-400bae94432b",
   "metadata": {},
   "source": [
    "## Σε αυτό το βήμα διαμορφώνουμε την αρχιτεκτονική του Echo State Network, δημιουργώντας: \n",
    "### Το μπλοκ εισόδου (InputToNode) που χαρτογραφεί και κλιμακώνει τις εξωτερικές τιμές στο reservoir.\n",
    "### Το επαναληπτικό μπλοκ (NodeToNode) που ορίζει τη δυναμική και τις εσωτερικές συνδέσεις του reservoir.\n",
    "### Τον τελικό ESNRegressor, συνδυάζοντας τα δύο blocks με έναν γραμμικό Ridge read-out, έτοιμο να εκπαιδευτεί."
   ]
  },
  {
   "cell_type": "code",
   "execution_count": 46,
   "id": "61426ddd-fff7-459e-9dbd-819526a5f419",
   "metadata": {},
   "outputs": [],
   "source": [
    "\n",
    "# Ορισμός του μπλοκ εισόδου (Input → Reservoir)\n",
    "base_input_to_nodes = InputToNode(\n",
    "    hidden_layer_size=1000,   # reservoir με 1000 νευρώνες\n",
    "    input_activation='identity',  # η είσοδος περνάει αυτούσια, χωρίς μη-γραμμική ενεργοποίηση\n",
    "    k_in=1,                       # κάθε διάσταση εισόδου συνδέεται με κάθε νευρώνα\n",
    "    input_scaling=0.4,            # κλιμακώνει την ισχύ του σήματος εισόδου στο 0.4\n",
    "    bias_scaling=0.0              # δεν προστίθεται επιπλέον bias\n",
    ")\n",
    "\n",
    "# Ορισμός του επαναληπτικού μπλοκ (Reservoir → Reservoir)\n",
    "base_nodes_to_nodes = NodeToNode(\n",
    "    hidden_layer_size=1000,  # ίδια διάσταση reservoir: 1000 νευρώνες\n",
    "    spectral_radius=0.2,     # φασματική ακτίνα για σταθερότητα της δυναμικής\n",
    "    leakage=0.2,             # ρυθμός \"διαρροής\" μνήμης των νευρώνων\n",
    "    k_rec=10                 # κάθε νευρώνας έχει 10 τυχαίες επαναληπτικές συνδέσεις\n",
    ")\n",
    "\n",
    "# Συνδυασμός σε ESNRegressor με Ridge read-out\n",
    "esn = ESNRegressor(\n",
    "    input_to_node=base_input_to_nodes,      # το μπλοκ εισόδου που ορίσαμε\n",
    "    node_to_node=base_nodes_to_nodes,       # το επαναληπτικό μπλοκ\n",
    "    regressor=Ridge(alpha=1e-8)             # γραμμικός read-out με πολύ ελαφριά κανονικοποίηση\n",
    ")\n"
   ]
  },
  {
   "cell_type": "code",
   "execution_count": 48,
   "id": "fe5a1aff-e5bd-4c9f-bffa-5bd48967b2a5",
   "metadata": {},
   "outputs": [],
   "source": [
    "# Λίστα με τα μήκη ιστορικού (μεγέθη παραθύρου) που θα αξιολογηθούν ως είσοδοι για το ESN\n",
    "windows = [40,60,80,100]"
   ]
  },
  {
   "cell_type": "markdown",
   "id": "7d00d139-db0a-4ac8-9755-f1856cf353f9",
   "metadata": {},
   "source": [
    "## Δημιουργία σετ εισόδων και στόχων για εκπαίδευση ESN βάσει sliding window.\n"
   ]
  },
  {
   "cell_type": "code",
   "execution_count": 49,
   "id": "b473b49b-e074-4c7d-ac14-6c29bb7fff96",
   "metadata": {},
   "outputs": [],
   "source": [
    "def receive_training_sets(window):\n",
    "\n",
    "# Ετοιμάζουμε λίστες για τους στόχους, τις εισόδους και τις τιμές «πριν»\n",
    "    y_targets = list()\n",
    "    X_ins     = list()\n",
    "    prices    = list()\n",
    "\n",
    "\n",
    "    # Ολισθαίνουμε ένα παράθυρο μήκους window+1 πάνω στη σειρά τιμών κλεισίματος\n",
    "    for b in range(len(df)):\n",
    "        end = b + window + 1\n",
    "        if end > len(df):\n",
    "            break  # σταματάμε όταν δεν υπάρχουν αρκετά δεδομένα για πλήρες παράθυρο\n",
    "\n",
    "        # Παίρνουμε το slice των window+1 τιμών: οι πρώτες window για είσοδο, η τελευταία για στόχο\n",
    "        seq1 = df.close[b:end]\n",
    "\n",
    "        # Ο στόχος (target) είναι η τελευταία τιμή του slice\n",
    "        y_targets.append(seq1.iloc[-1])\n",
    "\n",
    "        # Η είσοδος είναι οι πρώτες window τιμές\n",
    "        seq = seq1[:-1]\n",
    "\n",
    "        # Καταγράφουμε την τελευταία τιμή της εισόδου (για κανονικοποίηση ή έλεγχο κατεύθυνσης)\n",
    "        prices.append(seq.iloc[-1])\n",
    "\n",
    "        # Μετατρέπουμε τη σειρά εισόδου σε NumPy array και την αποθηκεύουμε\n",
    "        X_ins.append(np.array(seq))\n",
    "\n",
    "    # Στοίχιση όλων των παραθύρων εισόδου σε έναν πίνακα (n_samples, window)\n",
    "    train_set = np.array(X_ins)\n",
    "\n",
    "    # Μετατροπή λίστας στόχων και τιμών «πριν» σε πίνακες NumPy\n",
    "    y_train = np.array(y_targets)\n",
    "    prev    = np.array(prices)\n",
    "\n",
    "    return train_set, y_train, prev"
   ]
  },
  {
   "cell_type": "code",
   "execution_count": null,
   "id": "8937bb75-6180-4719-94b0-d45824e05df8",
   "metadata": {},
   "outputs": [],
   "source": [
    "## "
   ]
  },
  {
   "cell_type": "code",
   "execution_count": 51,
   "id": "267925e2-8a3f-4a86-a578-b89d7013569a",
   "metadata": {},
   "outputs": [],
   "source": [
    "def train(train_set,y_train,previous):\n",
    "    esn.fit(train_set, y_train)\n",
    "\n",
    "    \n",
    "    predictions = esn.predict (train_set)\n",
    "\n",
    "        \n",
    "    MSE = mean_squared_error(predictions,y_train)\n",
    "    rmse = math.sqrt(MSE)\n",
    "    \n",
    "    return rmse"
   ]
  },
  {
   "cell_type": "code",
   "execution_count": 55,
   "id": "6912c0fb-61f4-45c0-a457-5d49252663e1",
   "metadata": {},
   "outputs": [],
   "source": [
    "\n",
    "rmses = []"
   ]
  },
  {
   "cell_type": "markdown",
   "id": "817a7d21-9f19-4e3f-83db-040d5f72c66a",
   "metadata": {},
   "source": [
    "## Αυτός ο βρόχος δοκιμάζει διαφορετικά μεγέθη «παραθύρου» (window sizes) και καταγράφει πόσο καλά εκπαιδεύεται το ESN σε κάθε περίπτωση:"
   ]
  },
  {
   "cell_type": "code",
   "execution_count": 53,
   "id": "e8910974-cd53-487b-8ce8-cad5547de82b",
   "metadata": {
    "scrolled": true
   },
   "outputs": [
    {
     "name": "stdout",
     "output_type": "stream",
     "text": [
      "window=40 -> RMSE=0.000262882063775\n",
      "window=60 -> RMSE=0.000262465099039\n",
      "window=80 -> RMSE=0.000262108762542\n",
      "window=100 -> RMSE=0.000261718743024\n"
     ]
    }
   ],
   "source": [
    "# Βρόχος σε όλους τους μεγέθους παραθύρου της λίστας 'windows'\n",
    "for n in range(len(windows)):\n",
    "    window = windows[n]  # τρέχον μέγεθος παραθύρου\n",
    "\n",
    "    # Δημιουργούμε τα training δεδομένα (παράθυρα εισόδου, στόχοι, προηγούμενες τιμές)\n",
    "    train_set, y_train, prev = receive_training_sets(window)\n",
    "\n",
    "    # Εκπαιδεύουμε το ESN με αυτά τα δεδομένα και υπολογίζουμε το RMSE\n",
    "    rmse = train(train_set, y_train, prev)\n",
    "\n",
    "    # Εκτυπώνουμε το RMSE για το τρέχον μέγεθος παραθύρου\n",
    "    print(f\"window={window} -> RMSE={rmse:.15f}\")\n",
    "\n",
    "    # Αποθηκεύουμε το RMSE στη λίστα για μελλοντική ανάλυση ή οπτικοποίηση\n",
    "    rmses.append(rmse)\n"
   ]
  },
  {
   "cell_type": "markdown",
   "id": "c96f1604-9e37-4c7d-9b22-76b7fd06d87c",
   "metadata": {},
   "source": [
    "## Γράφημα μεταβολής του σφάλματος με βάση το windows size"
   ]
  },
  {
   "cell_type": "code",
   "execution_count": 54,
   "id": "effce370-4a68-4046-84fc-014666f150cd",
   "metadata": {
    "scrolled": true
   },
   "outputs": [
    {
     "data": {
      "image/png": "[encoded data removed]",
      "text/plain": [
       "<Figure size 640x480 with 1 Axes>"
      ]
     },
     "metadata": {},
     "output_type": "display_data"
    }
   ],
   "source": [
    "plt.title(\"Window Size vs RMSE\")\n",
    "plt.xlabel(\"Window Size\")\n",
    "plt.ylabel(\"RMSE\")\n",
    "plt.plot(windows, rmses, marker='o')  # note: use rmses, not rmse\n",
    "plt.grid(True)\n",
    "plt.show()\n"
   ]
  },
  {
   "cell_type": "markdown",
   "id": "ebc4862b-51d4-42d4-acb5-455d7562f7aa",
   "metadata": {},
   "source": [
    "## Κλασική “sliding-window” μετατροπή της μονοδιάστατης χρονοσειράς σε πίνακα εισόδου X διαστάσεων N×50 και αντίστοιχο διάνυσμα στόχων y\n",
    "## 1. Δημιουργία παραθύρων\n",
    "### Ολισθαίνουμε ένα παράθυρο μήκους 51 επάνω στη σειρά:\n",
    "### Είσοδοι: οι πρώτες 50 τιμές.\n",
    "### Στόχος: η 51η τιμή.\n",
    "## 2. Δομές δεδομένων\n",
    "### Το X_ins γίνεται λίστα από μονοδιάστατους πίνακες (arrays), καθένας σχήματος (50,)\n",
    "### Το y_targets είναι λίστα με αριθμούς (scalars) — η “επόμενη” τιμή κλεισίματος που θέλουμε να προβλέψουμε\n",
    "### Το prices κρατάει το τελευταίο στοιχείο κάθε παραθύρου—χρήσιμο για κανονικοποίηση ή υπολογισμό απόδοσης σε σχέση με την πιο πρόσφατη τιμή."
   ]
  },
  {
   "cell_type": "code",
   "execution_count": 26,
   "id": "d58c38d6-c4be-4bed-a41b-b2cc9d3892ae",
   "metadata": {},
   "outputs": [],
   "source": [
    "y_targets = list()\n",
    "X_ins = list()\n",
    "prices = list()\n",
    "for i in range(len(df)):\n",
    "    end = i+50+1\n",
    "    if end > len(df):\n",
    "        break\n",
    "    seq1 = df.close[i:end]\n",
    "    seq1 = seq1.reset_index(drop=True)\n",
    "\n",
    "    y_targets.append(seq1.iloc[-1])\n",
    "    \n",
    "    seq = seq1[:-1]\n",
    "    \n",
    "    price = seq.iloc[-1]\n",
    "    prices.append(price)\n",
    "    seq = np.array(seq)\n",
    "    seq = np.round(seq,5)\n",
    "    X_ins.append(seq)\n",
    "    \n",
    "\n",
    "X = np.array(X_ins)"
   ]
  },
  {
   "cell_type": "markdown",
   "id": "c459bec0-9950-4ebc-9a3e-9a7672b20644",
   "metadata": {},
   "source": [
    "## Διαχωρισμός σε training set & test set\n",
    "### Το πρώτο 80% θα χρησιμοποιηθεί για το training set\n"
   ]
  },
  {
   "cell_type": "code",
   "execution_count": 57,
   "id": "a41c447a-d961-42e4-849b-b5a35000ce81",
   "metadata": {},
   "outputs": [],
   "source": [
    "ts = round(len(X)*0.8)\n",
    "#inputs\n",
    "train_set = X[:ts]\n",
    "test_set = X[ts:]\n",
    "#outputs\n",
    "y_train = y_targets[:ts]\n",
    "y_test = y_targets[ts:]\n",
    "\n",
    "y_train = np.array(y_train)\n",
    "y_test = np.array(y_test)\n"
   ]
  },
  {
   "cell_type": "code",
   "execution_count": 58,
   "id": "b83e7608-6cc4-4c71-89bd-3fe3511047a5",
   "metadata": {},
   "outputs": [],
   "source": [
    "# Εκπαίδευση (fit) του ESN στο training set\n",
    "#   - Το ESN «μαθαίνει» τον γραμμικό read-out (Ridge) βασιζόμενο στις καταστάσεις του reservoir\n",
    "#   - Χρησιμοποιεί train_set (X) και y_train (στόχους) για να υπολογίσει τα κατάλληλα βάρη\n",
    "esn.fit(train_set, y_train)\n",
    "\n",
    "# Πρόβλεψη (predict) του ίδιου training set\n",
    "#   - Μετά την εκπαίδευση, παράγει τις τιμές που «πιστεύει» ότι αντιστοιχούν στα train_set\n",
    "#   - Αποθηκεύουμε το αποτέλεσμα σε predictions_train\n",
    "predictions_train = esn.predict(train_set)\n"
   ]
  },
  {
   "cell_type": "markdown",
   "id": "815009d8-b2e8-44e2-98aa-b0ae31d969b2",
   "metadata": {},
   "source": [
    "## Σχεδιασμός των πρώτων 30 προβλέψεων του μοντέλου συγκριτικά με τις πραγματικές τιμές, ώστε να δεις σε ένα μικρό «παράθυρο» πώς τα πάει:\n"
   ]
  },
  {
   "cell_type": "code",
   "execution_count": 60,
   "id": "64bc4635-cd86-47ae-9e00-cdb54e372b48",
   "metadata": {
    "scrolled": true
   },
   "outputs": [
    {
     "data": {
      "image/png": "[encoded data removed]",
      "text/plain": [
       "<Figure size 640x480 with 1 Axes>"
      ]
     },
     "metadata": {},
     "output_type": "display_data"
    }
   ],
   "source": [
    "# Σχεδιάζουμε τις πρώτες 30 προβλέψεις (κόκκινη γραμμή)\n",
    "plt.plot(predictions_train[:30], color='red', label='Προβλέψεις')\n",
    "\n",
    "# Σχεδιάζουμε τις πρώτες 30 πραγματικές τιμές (μπλε γραμμή από προεπιλογή)\n",
    "plt.plot(y_train[:30],       label='Πραγματικές τιμές')\n",
    "\n",
    "# Προσθέτουμε υπόμνημα και άξονες\n",
    "plt.legend()\n",
    "plt.xlabel('Δείγμα (index)')\n",
    "plt.ylabel('Τιμή')\n",
    "plt.title('Προβλέψεις vs Πραγματικές (πρώτα 30 δείγματα)')\n",
    "plt.grid(True)\n",
    "plt.show()"
   ]
  },
  {
   "cell_type": "markdown",
   "id": "d0724825-af1b-42c3-a54c-7b2356082531",
   "metadata": {},
   "source": [
    "## Αυτή η διαδικασία υπολογίζει πόσες φορές το ESN “έπιασε” σωστά την τάση (πάνω ή κάτω) της τιμής σε σχέση με την προηγούμενη τιμή του παραθύρου:"
   ]
  },
  {
   "cell_type": "code",
   "execution_count": 61,
   "id": "aaf98026-46f0-4850-b79e-1cb823dbb641",
   "metadata": {},
   "outputs": [
    {
     "name": "stdout",
     "output_type": "stream",
     "text": [
      "0.510852010871706\n"
     ]
    }
   ],
   "source": [
    "# Ορισμός των πινάκων για έλεγχο κατεύθυνσης πρόβλεψης\n",
    "real        = y_train                # οι πραγματικές επόμενες τιμές\n",
    "predictions = predictions_train      # οι προβλέψεις του ESN για το training set\n",
    "\n",
    "# Το prev παίρνει τις «τελευταίες» τιμές κάθε παραθύρου εισόδου\n",
    "prev = np.array(prices[:ts])\n",
    "\n",
    "# Μετρητής σωστών προβλέψεων κατεύθυνσης\n",
    "number = 0\n",
    "\n",
    "# Βρόχος σε κάθε δείγμα για να ελέγξουμε αν το μοντέλο έπιασε\n",
    "# σωστά αν η τιμή ανέβηκε ή έπεσε σε σχέση με την προηγούμενη τιμή\n",
    "for i in range(len(real)):\n",
    "    # Αν και η πραγματική και η προβλεπόμενη τιμή είναι πάνω\n",
    "    # από το prev[i], μετράμε σωστή ανοδική πρόβλεψη\n",
    "    if real[i] > prev[i] and predictions[i] > prev[i]:\n",
    "        number += 1\n",
    "    # Αν και οι δύο είναι κάτω από το prev[i], μετράμε σωστή καθοδική πρόβλεψη\n",
    "    elif real[i] < prev[i] and predictions[i] < prev[i]:\n",
    "        number += 1\n",
    "    # Διαφορετικά δεν αυξάνουμε τον μετρητή\n",
    "\n",
    "# Υπολογισμός ποσοστού επιτυχίας ως προς την κατεύθυνση (directional accuracy)\n",
    "trues = number / len(real)\n",
    "print(trues)  # π.χ. 0.513 σημαίνει 51.3% σωστές προβλέψεις κατεύθυνσης\n"
   ]
  },
  {
   "cell_type": "markdown",
   "id": "18351005-8bd2-4906-9d13-c3004d59b8f3",
   "metadata": {},
   "source": [
    "## esn.predict(test_set): χρησιμοποιεί το ήδη “εκπαιδευμένο” μοντέλο (esn.fit έχει ήδη τρέξει) ώστε να εκτιμήσει τις επόμενες τιμές για κάθε παράθυρο στο test_set.\n",
    "\n",
    "### Το αποτέλεσμα predictions_test είναι ένας πίνακας με μήκος όμοιο με το test_set, που περιέχει τις προβλεπόμενες τιμές για κάθε δείγμα του test set."
   ]
  },
  {
   "cell_type": "code",
   "execution_count": 68,
   "id": "3448413b-5bc2-4ad6-bdf0-746d68a7fd1a",
   "metadata": {},
   "outputs": [],
   "source": [
    "# Παράγουμε τις προβλέψεις του ESN για τα νέα, αθέατα δεδομένα του test set\n",
    "predictions_test = esn.predict(test_set)"
   ]
  },
  {
   "cell_type": "code",
   "execution_count": 65,
   "id": "a184497f-2e8f-4a33-bc54-a2ea71177519",
   "metadata": {},
   "outputs": [
    {
     "data": {
      "text/plain": [
       "6347"
      ]
     },
     "execution_count": 65,
     "metadata": {},
     "output_type": "execute_result"
    }
   ],
   "source": [
    "len(predictions_test)"
   ]
  },
  {
   "cell_type": "code",
   "execution_count": 66,
   "id": "085bf7d3-0e99-4fa3-adf4-5ee86493db7c",
   "metadata": {},
   "outputs": [
    {
     "data": {
      "text/plain": [
       "6347"
      ]
     },
     "execution_count": 66,
     "metadata": {},
     "output_type": "execute_result"
    }
   ],
   "source": [
    "len(y_test)"
   ]
  },
  {
   "cell_type": "code",
   "execution_count": 69,
   "id": "ae4bcb13-f004-42ed-97ef-59a5bce7b8ef",
   "metadata": {
    "scrolled": true
   },
   "outputs": [
    {
     "data": {
      "image/png": "[encoded data removed]",
      "text/plain": [
       "<Figure size 640x480 with 1 Axes>"
      ]
     },
     "metadata": {},
     "output_type": "display_data"
    }
   ],
   "source": [
    "# Σχεδίασε τις προβλέψεις 100–129 (κόκκινη γραμμή)\n",
    "plt.plot(predictions_test[100:130], color='red', label='Προβλέψεις')\n",
    "\n",
    "# Σχεδίασε τις πραγματικές τιμές 100–129 (μπλε γραμμή)\n",
    "plt.plot(y_test[100:130], label='Πραγματικές τιμές')\n",
    "\n",
    "# Προσθήκη υπόμνηματος και τίτλων αξόνων\n",
    "plt.legend()\n",
    "plt.xlabel('Δείγμα (indices 100 έως 129)')\n",
    "plt.ylabel('Τιμή')\n",
    "plt.title('Test Set: Πρόβλεψη vs Πραγματικό (δείγματα 100–129)')\n",
    "plt.grid(True)\n",
    "plt.show()"
   ]
  },
  {
   "cell_type": "markdown",
   "id": "94e98944-78ec-4200-817a-318d0fafcf32",
   "metadata": {},
   "source": [
    "## Αυτό το κομμάτι κώδικα υπολογίζει την «κατευθυντική ακρίβεια» (directional accuracy) του μοντέλου στο test set, δηλαδή το ποσοστό των φορών που μάντεψε σωστά αν η τιμή θα κινηθεί πάνω ή κάτω σε σχέση με την προηγούμενη τιμή."
   ]
  },
  {
   "cell_type": "code",
   "execution_count": 71,
   "id": "39d0c2be-5f74-4abc-a5d4-d08b8f553811",
   "metadata": {},
   "outputs": [
    {
     "name": "stdout",
     "output_type": "stream",
     "text": [
      "0.5043327556325823\n"
     ]
    }
   ],
   "source": [
    "# Ορισμός των πινάκων για έλεγχο κατεύθυνσης\n",
    "real        = y_test                # πραγματικές τιμές-στόχοι\n",
    "predictions = predictions_test      # προβλεπόμενες τιμές ESN\n",
    "prev        = np.array(prices[ts:]) # τελευταία τιμή κάθε window για το test set\n",
    "\n",
    "# Αρχικοποίηση μετρητή σωστών προβλέψεων κατεύθυνσης\n",
    "number = 0\n",
    "\n",
    "# Για κάθε δείγμα i, ελέγχουμε αν το μοντέλο μάντεψε σωστά την ανοδική/καθοδική κίνηση\n",
    "for i in range(len(real)):\n",
    "    # Σωστή ανοδική πρόβλεψη αν και η πραγματική και η προβλεπόμενη > prev[i]\n",
    "    if real[i] > prev[i] and predictions[i] > prev[i]:\n",
    "        number += 1\n",
    "    # Σωστή καθοδική πρόβλεψη αν και οι δύο < prev[i]\n",
    "    elif real[i] < prev[i] and predictions[i] < prev[i]:\n",
    "        number += 1\n",
    "    # Στις άλλες περιπτώσεις δεν μετράμε τίποτα\n",
    "\n",
    "# Υπολογισμός ποσοστού επιτυχίας (directional accuracy)\n",
    "trues = number / len(real)\n",
    "print(trues)  # π.χ. 0.504 → 50.4% σωστές προβλέψεις κατεύθυνσης\n"
   ]
  },
  {
   "cell_type": "code",
   "execution_count": null,
   "id": "a176979f-196d-4274-aa9a-dd888a272f7b",
   "metadata": {},
   "outputs": [],
   "source": []
  }
 ],
 "metadata": {
  "kernelspec": {
   "display_name": "Python 3 (ipykernel)",
   "language": "python",
   "name": "python3"
  },
  "language_info": {
   "codemirror_mode": {
    "name": "ipython",
    "version": 3
   },
   "file_extension": ".py",
   "mimetype": "text/x-python",
   "name": "python",
   "nbconvert_exporter": "python",
   "pygments_lexer": "ipython3",
   "version": "3.13.2"
  }
 },
 "nbformat": 4,
 "nbformat_minor": 5
}
