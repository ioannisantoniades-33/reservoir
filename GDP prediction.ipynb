{
 "cells": [
  {
   "cell_type": "code",
   "execution_count": 1,
   "id": "94c8c9cb-4441-436a-9984-07897848a347",
   "metadata": {},
   "outputs": [],
   "source": [
    "from pyrcn.echo_state_network import ESNRegressor\n",
    "import pandas as pd\n",
    "import numpy as np\n",
    "from numpy import array\n",
    "from matplotlib import pyplot as plt\n",
    "import math\n",
    "import csv\n"
   ]
  },
  {
   "cell_type": "code",
   "execution_count": 53,
   "id": "726416f0-6707-40d4-99cf-c47bb47bf32a",
   "metadata": {},
   "outputs": [
    {
     "data": {
      "text/html": [
       "<div>\n",
       "<style scoped>\n",
       "    .dataframe tbody tr th:only-of-type {\n",
       "        vertical-align: middle;\n",
       "    }\n",
       "\n",
       "    .dataframe tbody tr th {\n",
       "        vertical-align: top;\n",
       "    }\n",
       "\n",
       "    .dataframe thead th {\n",
       "        text-align: right;\n",
       "    }\n",
       "</style>\n",
       "<table border=\"1\" class=\"dataframe\">\n",
       "  <thead>\n",
       "    <tr style=\"text-align: right;\">\n",
       "      <th></th>\n",
       "      <th>observation_date</th>\n",
       "      <th>GDP</th>\n",
       "      <th>gdp_smooth</th>\n",
       "      <th>GDPCanonical</th>\n",
       "    </tr>\n",
       "  </thead>\n",
       "  <tbody>\n",
       "    <tr>\n",
       "      <th>0</th>\n",
       "      <td>1947-01-01</td>\n",
       "      <td>243.164</td>\n",
       "      <td>NaN</td>\n",
       "      <td>0.833499</td>\n",
       "    </tr>\n",
       "    <tr>\n",
       "      <th>1</th>\n",
       "      <td>1947-04-01</td>\n",
       "      <td>245.968</td>\n",
       "      <td>NaN</td>\n",
       "      <td>0.843110</td>\n",
       "    </tr>\n",
       "    <tr>\n",
       "      <th>2</th>\n",
       "      <td>1947-07-01</td>\n",
       "      <td>249.585</td>\n",
       "      <td>NaN</td>\n",
       "      <td>0.855509</td>\n",
       "    </tr>\n",
       "    <tr>\n",
       "      <th>3</th>\n",
       "      <td>1947-10-01</td>\n",
       "      <td>259.745</td>\n",
       "      <td>NaN</td>\n",
       "      <td>0.890334</td>\n",
       "    </tr>\n",
       "    <tr>\n",
       "      <th>4</th>\n",
       "      <td>1948-01-01</td>\n",
       "      <td>265.742</td>\n",
       "      <td>NaN</td>\n",
       "      <td>0.910890</td>\n",
       "    </tr>\n",
       "    <tr>\n",
       "      <th>...</th>\n",
       "      <td>...</td>\n",
       "      <td>...</td>\n",
       "      <td>...</td>\n",
       "      <td>...</td>\n",
       "    </tr>\n",
       "    <tr>\n",
       "      <th>307</th>\n",
       "      <td>2023-10-01</td>\n",
       "      <td>28296.967</td>\n",
       "      <td>19488.067066</td>\n",
       "      <td>1.452015</td>\n",
       "    </tr>\n",
       "    <tr>\n",
       "      <th>308</th>\n",
       "      <td>2024-01-01</td>\n",
       "      <td>28624.069</td>\n",
       "      <td>19717.835262</td>\n",
       "      <td>1.451684</td>\n",
       "    </tr>\n",
       "    <tr>\n",
       "      <th>309</th>\n",
       "      <td>2024-04-01</td>\n",
       "      <td>29016.714</td>\n",
       "      <td>19956.946934</td>\n",
       "      <td>1.453966</td>\n",
       "    </tr>\n",
       "    <tr>\n",
       "      <th>310</th>\n",
       "      <td>2024-07-01</td>\n",
       "      <td>29374.914</td>\n",
       "      <td>20202.744934</td>\n",
       "      <td>1.454006</td>\n",
       "    </tr>\n",
       "    <tr>\n",
       "      <th>311</th>\n",
       "      <td>2024-10-01</td>\n",
       "      <td>29723.864</td>\n",
       "      <td>20453.154475</td>\n",
       "      <td>1.453266</td>\n",
       "    </tr>\n",
       "  </tbody>\n",
       "</table>\n",
       "<p>312 rows × 4 columns</p>\n",
       "</div>"
      ],
      "text/plain": [
       "    observation_date        GDP    gdp_smooth  GDPCanonical\n",
       "0         1947-01-01    243.164           NaN      0.833499\n",
       "1         1947-04-01    245.968           NaN      0.843110\n",
       "2         1947-07-01    249.585           NaN      0.855509\n",
       "3         1947-10-01    259.745           NaN      0.890334\n",
       "4         1948-01-01    265.742           NaN      0.910890\n",
       "..               ...        ...           ...           ...\n",
       "307       2023-10-01  28296.967  19488.067066      1.452015\n",
       "308       2024-01-01  28624.069  19717.835262      1.451684\n",
       "309       2024-04-01  29016.714  19956.946934      1.453966\n",
       "310       2024-07-01  29374.914  20202.744934      1.454006\n",
       "311       2024-10-01  29723.864  20453.154475      1.453266\n",
       "\n",
       "[312 rows x 4 columns]"
      ]
     },
     "execution_count": 53,
     "metadata": {},
     "output_type": "execute_result"
    }
   ],
   "source": [
    "df"
   ]
  },
  {
   "cell_type": "code",
   "execution_count": 60,
   "id": "a36b3513-689c-4d40-b1b2-38f84f541d18",
   "metadata": {},
   "outputs": [
    {
     "name": "stdout",
     "output_type": "stream",
     "text": [
      "(936, 4)\n"
     ]
    }
   ],
   "source": [
    "# repeat_count = 3 σημαίνει ότι θέλουμε το df να επαναληφθεί τρεις φορές\n",
    "repeat_count = 3\n",
    "\n",
    "df_copy = pd.concat([df.copy() for _ in range(repeat_count)],\n",
    "                   ignore_index=True)\n",
    "\n",
    "print(df_big.shape)   # (936, n_columns)\n"
   ]
  },
  {
   "cell_type": "code",
   "execution_count": 64,
   "id": "d150c492-6077-4bb7-a21a-e75293cfe920",
   "metadata": {},
   "outputs": [
    {
     "data": {
      "text/html": [
       "<div>\n",
       "<style scoped>\n",
       "    .dataframe tbody tr th:only-of-type {\n",
       "        vertical-align: middle;\n",
       "    }\n",
       "\n",
       "    .dataframe tbody tr th {\n",
       "        vertical-align: top;\n",
       "    }\n",
       "\n",
       "    .dataframe thead th {\n",
       "        text-align: right;\n",
       "    }\n",
       "</style>\n",
       "<table border=\"1\" class=\"dataframe\">\n",
       "  <thead>\n",
       "    <tr style=\"text-align: right;\">\n",
       "      <th></th>\n",
       "      <th>observation_date</th>\n",
       "      <th>GDP</th>\n",
       "      <th>gdp_smooth</th>\n",
       "      <th>GDPCanonical</th>\n",
       "    </tr>\n",
       "  </thead>\n",
       "  <tbody>\n",
       "    <tr>\n",
       "      <th>0</th>\n",
       "      <td>1947-01-01</td>\n",
       "      <td>243.164</td>\n",
       "      <td>NaN</td>\n",
       "      <td>0.833499</td>\n",
       "    </tr>\n",
       "    <tr>\n",
       "      <th>1</th>\n",
       "      <td>1947-04-01</td>\n",
       "      <td>245.968</td>\n",
       "      <td>NaN</td>\n",
       "      <td>0.843110</td>\n",
       "    </tr>\n",
       "    <tr>\n",
       "      <th>2</th>\n",
       "      <td>1947-07-01</td>\n",
       "      <td>249.585</td>\n",
       "      <td>NaN</td>\n",
       "      <td>0.855509</td>\n",
       "    </tr>\n",
       "    <tr>\n",
       "      <th>3</th>\n",
       "      <td>1947-10-01</td>\n",
       "      <td>259.745</td>\n",
       "      <td>NaN</td>\n",
       "      <td>0.890334</td>\n",
       "    </tr>\n",
       "    <tr>\n",
       "      <th>4</th>\n",
       "      <td>1948-01-01</td>\n",
       "      <td>265.742</td>\n",
       "      <td>NaN</td>\n",
       "      <td>0.910890</td>\n",
       "    </tr>\n",
       "    <tr>\n",
       "      <th>...</th>\n",
       "      <td>...</td>\n",
       "      <td>...</td>\n",
       "      <td>...</td>\n",
       "      <td>...</td>\n",
       "    </tr>\n",
       "    <tr>\n",
       "      <th>931</th>\n",
       "      <td>2023-10-01</td>\n",
       "      <td>28296.967</td>\n",
       "      <td>19488.067066</td>\n",
       "      <td>1.452015</td>\n",
       "    </tr>\n",
       "    <tr>\n",
       "      <th>932</th>\n",
       "      <td>2024-01-01</td>\n",
       "      <td>28624.069</td>\n",
       "      <td>19717.835262</td>\n",
       "      <td>1.451684</td>\n",
       "    </tr>\n",
       "    <tr>\n",
       "      <th>933</th>\n",
       "      <td>2024-04-01</td>\n",
       "      <td>29016.714</td>\n",
       "      <td>19956.946934</td>\n",
       "      <td>1.453966</td>\n",
       "    </tr>\n",
       "    <tr>\n",
       "      <th>934</th>\n",
       "      <td>2024-07-01</td>\n",
       "      <td>29374.914</td>\n",
       "      <td>20202.744934</td>\n",
       "      <td>1.454006</td>\n",
       "    </tr>\n",
       "    <tr>\n",
       "      <th>935</th>\n",
       "      <td>2024-10-01</td>\n",
       "      <td>29723.864</td>\n",
       "      <td>20453.154475</td>\n",
       "      <td>1.453266</td>\n",
       "    </tr>\n",
       "  </tbody>\n",
       "</table>\n",
       "<p>936 rows × 4 columns</p>\n",
       "</div>"
      ],
      "text/plain": [
       "    observation_date        GDP    gdp_smooth  GDPCanonical\n",
       "0         1947-01-01    243.164           NaN      0.833499\n",
       "1         1947-04-01    245.968           NaN      0.843110\n",
       "2         1947-07-01    249.585           NaN      0.855509\n",
       "3         1947-10-01    259.745           NaN      0.890334\n",
       "4         1948-01-01    265.742           NaN      0.910890\n",
       "..               ...        ...           ...           ...\n",
       "931       2023-10-01  28296.967  19488.067066      1.452015\n",
       "932       2024-01-01  28624.069  19717.835262      1.451684\n",
       "933       2024-04-01  29016.714  19956.946934      1.453966\n",
       "934       2024-07-01  29374.914  20202.744934      1.454006\n",
       "935       2024-10-01  29723.864  20453.154475      1.453266\n",
       "\n",
       "[936 rows x 4 columns]"
      ]
     },
     "execution_count": 64,
     "metadata": {},
     "output_type": "execute_result"
    }
   ],
   "source": [
    "df_copy"
   ]
  },
  {
   "cell_type": "code",
   "execution_count": 63,
   "id": "fb8232d3-e61b-46c5-9f48-fcb13c6960a1",
   "metadata": {},
   "outputs": [
    {
     "data": {
      "text/plain": [
       "np.float64(0.8334991380678893)"
      ]
     },
     "execution_count": 63,
     "metadata": {},
     "output_type": "execute_result"
    }
   ],
   "source": [
    "df_copy['GDPCanonical'][312]"
   ]
  },
  {
   "cell_type": "code",
   "execution_count": null,
   "id": "6283cb71-e29d-40de-aab3-e6cdd0ea339c",
   "metadata": {},
   "outputs": [],
   "source": []
  },
  {
   "cell_type": "markdown",
   "id": "da0c7080-5331-4fe2-96b6-ebe78414142a",
   "metadata": {},
   "source": [
    "## clean data"
   ]
  },
  {
   "cell_type": "code",
   "execution_count": 35,
   "id": "a511d6c6-9c3e-4658-90c4-f04de5701109",
   "metadata": {},
   "outputs": [],
   "source": [
    "#df = pd.read_csv(\n",
    " #   r\"C:\\Users\\chilly\\Desktop\\micronomic datas\\processed data\\clean_data.csv\")"
   ]
  },
  {
   "cell_type": "code",
   "execution_count": null,
   "id": "bb860d5c-347f-4d08-80e4-eaac9a26ce14",
   "metadata": {
    "scrolled": true
   },
   "outputs": [],
   "source": [
    "#df[\"Date\"] = pd.to_datetime(df[\"Date\"], dayfirst=False, errors=\"coerce\")\n",
    "#df[\"Date1\"] = pd.to_datetime(df[\"Date\"], dayfirst=False, errors=\"coerce\")\n",
    "#df[\"Date2\"] = pd.to_datetime(df[\"Date\"], dayfirst=False, errors=\"coerce\")\n",
    "#df[\"Date3\"] = pd.to_datetime(df[\"Date\"], dayfirst=False, errors=\"coerce\")\n",
    "#df = df.drop('index', axis=1)\n",
    "\n"
   ]
  },
  {
   "cell_type": "markdown",
   "id": "6763b8af-b075-4130-9711-50e9cd395c10",
   "metadata": {},
   "source": [
    "## Real data"
   ]
  },
  {
   "cell_type": "code",
   "execution_count": 2,
   "id": "ed6afc82-6046-43a9-be4b-ab17e29074f2",
   "metadata": {
    "scrolled": true
   },
   "outputs": [
    {
     "name": "stdout",
     "output_type": "stream",
     "text": [
      "Original Quarterly Data:\n",
      "  observation_date      GDP\n",
      "0       1947-01-01  243.164\n",
      "1       1947-04-01  245.968\n",
      "2       1947-07-01  249.585\n",
      "3       1947-10-01  259.745\n",
      "4       1948-01-01  265.742\n",
      "observation_date    312\n",
      "GDP                 312\n",
      "dtype: int64\n",
      "<class 'pandas.core.frame.DataFrame'>\n",
      "RangeIndex: 312 entries, 0 to 311\n",
      "Data columns (total 2 columns):\n",
      " #   Column            Non-Null Count  Dtype         \n",
      "---  ------            --------------  -----         \n",
      " 0   observation_date  312 non-null    datetime64[ns]\n",
      " 1   GDP               312 non-null    float64       \n",
      "dtypes: datetime64[ns](1), float64(1)\n",
      "memory usage: 5.0 KB\n",
      "None\n"
     ]
    }
   ],
   "source": [
    "# Step 1: Read the CSV and parse the 'observation_date' column as datetime.\n",
    "df = pd.read_csv(r\"C:\\Users\\chilly\\Desktop\\micronomic datas\\unprocessed data\\GDP.csv\", parse_dates=['observation_date'])\n",
    "\n",
    "\n",
    "print(\"Original Quarterly Data:\")\n",
    "print(df.head())\n",
    "print(df.count())\n",
    "print(df.info())\n",
    "\n",
    "\n"
   ]
  },
  {
   "cell_type": "code",
   "execution_count": 283,
   "id": "849cc68c-a57d-4122-930a-a86a700d7855",
   "metadata": {},
   "outputs": [
    {
     "data": {
      "text/html": [
       "<div>\n",
       "<style scoped>\n",
       "    .dataframe tbody tr th:only-of-type {\n",
       "        vertical-align: middle;\n",
       "    }\n",
       "\n",
       "    .dataframe tbody tr th {\n",
       "        vertical-align: top;\n",
       "    }\n",
       "\n",
       "    .dataframe thead th {\n",
       "        text-align: right;\n",
       "    }\n",
       "</style>\n",
       "<table border=\"1\" class=\"dataframe\">\n",
       "  <thead>\n",
       "    <tr style=\"text-align: right;\">\n",
       "      <th></th>\n",
       "      <th>observation_date</th>\n",
       "      <th>GDP</th>\n",
       "    </tr>\n",
       "  </thead>\n",
       "  <tbody>\n",
       "    <tr>\n",
       "      <th>0</th>\n",
       "      <td>1947-01-01</td>\n",
       "      <td>243.164</td>\n",
       "    </tr>\n",
       "    <tr>\n",
       "      <th>1</th>\n",
       "      <td>1947-04-01</td>\n",
       "      <td>245.968</td>\n",
       "    </tr>\n",
       "    <tr>\n",
       "      <th>2</th>\n",
       "      <td>1947-07-01</td>\n",
       "      <td>249.585</td>\n",
       "    </tr>\n",
       "    <tr>\n",
       "      <th>3</th>\n",
       "      <td>1947-10-01</td>\n",
       "      <td>259.745</td>\n",
       "    </tr>\n",
       "    <tr>\n",
       "      <th>4</th>\n",
       "      <td>1948-01-01</td>\n",
       "      <td>265.742</td>\n",
       "    </tr>\n",
       "    <tr>\n",
       "      <th>...</th>\n",
       "      <td>...</td>\n",
       "      <td>...</td>\n",
       "    </tr>\n",
       "    <tr>\n",
       "      <th>307</th>\n",
       "      <td>2023-10-01</td>\n",
       "      <td>28296.967</td>\n",
       "    </tr>\n",
       "    <tr>\n",
       "      <th>308</th>\n",
       "      <td>2024-01-01</td>\n",
       "      <td>28624.069</td>\n",
       "    </tr>\n",
       "    <tr>\n",
       "      <th>309</th>\n",
       "      <td>2024-04-01</td>\n",
       "      <td>29016.714</td>\n",
       "    </tr>\n",
       "    <tr>\n",
       "      <th>310</th>\n",
       "      <td>2024-07-01</td>\n",
       "      <td>29374.914</td>\n",
       "    </tr>\n",
       "    <tr>\n",
       "      <th>311</th>\n",
       "      <td>2024-10-01</td>\n",
       "      <td>29723.864</td>\n",
       "    </tr>\n",
       "  </tbody>\n",
       "</table>\n",
       "<p>312 rows × 2 columns</p>\n",
       "</div>"
      ],
      "text/plain": [
       "    observation_date        GDP\n",
       "0         1947-01-01    243.164\n",
       "1         1947-04-01    245.968\n",
       "2         1947-07-01    249.585\n",
       "3         1947-10-01    259.745\n",
       "4         1948-01-01    265.742\n",
       "..               ...        ...\n",
       "307       2023-10-01  28296.967\n",
       "308       2024-01-01  28624.069\n",
       "309       2024-04-01  29016.714\n",
       "310       2024-07-01  29374.914\n",
       "311       2024-10-01  29723.864\n",
       "\n",
       "[312 rows x 2 columns]"
      ]
     },
     "execution_count": 283,
     "metadata": {},
     "output_type": "execute_result"
    }
   ],
   "source": [
    "df"
   ]
  },
  {
   "cell_type": "code",
   "execution_count": 284,
   "id": "eae24a23-4f9f-40c2-bad9-4bcd4b31aa54",
   "metadata": {},
   "outputs": [
    {
     "name": "stdout",
     "output_type": "stream",
     "text": [
      "<class 'pandas.core.frame.DataFrame'>\n",
      "RangeIndex: 312 entries, 0 to 311\n",
      "Data columns (total 2 columns):\n",
      " #   Column            Non-Null Count  Dtype         \n",
      "---  ------            --------------  -----         \n",
      " 0   observation_date  312 non-null    datetime64[ns]\n",
      " 1   GDP               312 non-null    float64       \n",
      "dtypes: datetime64[ns](1), float64(1)\n",
      "memory usage: 5.0 KB\n"
     ]
    }
   ],
   "source": [
    "df.info()"
   ]
  },
  {
   "cell_type": "markdown",
   "id": "20e7d36d-ef19-477e-9c94-7299f8def2a6",
   "metadata": {},
   "source": [
    "## Κανουμε smoothing στα data μας "
   ]
  },
  {
   "cell_type": "code",
   "execution_count": 3,
   "id": "5ef38544-215d-49d2-a216-b60d09054026",
   "metadata": {
    "scrolled": true
   },
   "outputs": [
    {
     "data": {
      "image/png": "[encoded data removed]",
      "text/plain": [
       "<Figure size 1000x500 with 1 Axes>"
      ]
     },
     "metadata": {},
     "output_type": "display_data"
    }
   ],
   "source": [
    "\n",
    "\n",
    "# Calculate a moving average (change window size as needed)\n",
    "df['gdp_smooth'] = df['GDP'].rolling(window=61).mean()\n",
    "\n",
    "\n",
    "# Plot the original GDP data and the smoothed line\n",
    "plt.figure(figsize=(10, 5))\n",
    "plt.plot(df['GDP'], label='Original GDP')\n",
    "plt.plot(df['gdp_smooth'], label='Smoothed GDP (Moving Average)', color='red')\n",
    "plt.xlabel('Index or Time Variable')\n",
    "plt.ylabel('GDP')\n",
    "plt.title('GDP with Linear Smoothing (Moving Average)')\n",
    "plt.legend()\n",
    "plt.show()\n"
   ]
  },
  {
   "cell_type": "markdown",
   "id": "4b2b00f2-7507-4e41-8410-d9e3e32b541c",
   "metadata": {},
   "source": [
    "## Φτιαχνουμε την κανονικοποιημένη στήλη με την οποία θα δουλέψουμε"
   ]
  },
  {
   "cell_type": "code",
   "execution_count": 4,
   "id": "a33fe13b-b0cb-4a85-ba9d-c0297d8c3a37",
   "metadata": {},
   "outputs": [],
   "source": [
    "\n",
    "# Replace NaNs in gdp_smooth with 291.738754 and then compute the new column.\n",
    "df['GDPCanonical'] = df['GDP'] / df['gdp_smooth'].fillna(291.738754)\n",
    "\n",
    "\n",
    "    "
   ]
  },
  {
   "cell_type": "code",
   "execution_count": 288,
   "id": "5dc1cfcd-f296-4a29-bc95-31b73d97e6ec",
   "metadata": {
    "scrolled": true
   },
   "outputs": [
    {
     "name": "stdout",
     "output_type": "stream",
     "text": [
      "<class 'pandas.core.frame.DataFrame'>\n",
      "RangeIndex: 312 entries, 0 to 311\n",
      "Data columns (total 4 columns):\n",
      " #   Column            Non-Null Count  Dtype         \n",
      "---  ------            --------------  -----         \n",
      " 0   observation_date  312 non-null    datetime64[ns]\n",
      " 1   GDP               312 non-null    float64       \n",
      " 2   gdp_smooth        252 non-null    float64       \n",
      " 3   GDPCanonical      312 non-null    float64       \n",
      "dtypes: datetime64[ns](1), float64(3)\n",
      "memory usage: 9.9 KB\n"
     ]
    }
   ],
   "source": [
    "df.info()"
   ]
  },
  {
   "cell_type": "code",
   "execution_count": 5,
   "id": "bf0308a4-da5f-4d3a-8414-847eda8f8583",
   "metadata": {
    "scrolled": true
   },
   "outputs": [
    {
     "data": {
      "text/plain": [
       "[<matplotlib.lines.Line2D at 0x217ea170a50>]"
      ]
     },
     "execution_count": 5,
     "metadata": {},
     "output_type": "execute_result"
    },
    {
     "data": {
      "image/png": "[encoded data removed]",
      "text/plain": [
       "<Figure size 640x480 with 1 Axes>"
      ]
     },
     "metadata": {},
     "output_type": "display_data"
    }
   ],
   "source": [
    "plt.plot(df.GDPCanonical)"
   ]
  },
  {
   "cell_type": "markdown",
   "id": "b4c5b8f9-bff0-4c4c-a189-11cfb4bf09dd",
   "metadata": {},
   "source": [
    "## Κλασική “sliding-window” μετατροπή της μονοδιάστατης χρονοσειράς σε πίνακα εισόδου X διαστάσεων N×50 και αντίστοιχο διάνυσμα στόχων y\n",
    "## 1. Δημιουργία παραθύρων\n",
    "### Ολισθαίνουμε ένα παράθυρο μήκους 51 επάνω στη σειρά:\n",
    "### Είσοδοι: οι πρώτες 50 τιμές.\n",
    "### Στόχος: η 51η τιμή.\n",
    "## 2. Δομές δεδομένων\n",
    "### Το X_ins γίνεται λίστα από μονοδιάστατους πίνακες (arrays), καθένας σχήματος (50,)\n",
    "### Το y_targets είναι λίστα με αριθμούς (scalars) — η “επόμενη” τιμή κλεισίματος που θέλουμε να προβλέψουμε\n",
    "### Το prices κρατάει το τελευταίο στοιχείο κάθε παραθύρου—χρήσιμο για κανονικοποίηση ή υπολογισμό απόδοσης σε σχέση με την πιο πρόσφατη τιμή.\n"
   ]
  },
  {
   "cell_type": "code",
   "execution_count": 6,
   "id": "8a1b0404-46c4-4b6e-834d-0b28ec2cb8a6",
   "metadata": {},
   "outputs": [],
   "source": [
    "# Διαχωρισμός δεδομένων σε είσοδοι (inputs) και στόχοι (outputs) για tuning υπερπαραμέτρων\n",
    "y_targets = list()\n",
    "X_ins = list()\n",
    "prices = list()\n",
    "# Δημιουργούμε sliding windows των 51 τιμών: 50 για είσοδο + 1 για στόχο\n",
    "for i in range(len(df)):\n",
    "    end = i+50+1\n",
    "    if end > len(df):\n",
    "        break # σταματάμε όταν δεν υπάρχουν άλλα πλήρη παράθυρα\n",
    "        \n",
    "# Παίρνουμε το slice των 51 τιμών από το column 'close'\n",
    "    seq1 = df.GDPCanonical[i:end]\n",
    "    seq1 = seq1.reset_index(drop=True)\n",
    "    \n",
    "# Ο στόχος είναι η τελευταία τιμή του slice (51η)\n",
    "    y_targets.append(seq1.iloc[-1])\n",
    "# Η είσοδος είναι οι πρώτες 50 τιμές\n",
    "    seq = seq1[:-1]\n",
    "# Αποθηκεύουμε την τελευταία τιμή της εισόδου (συνήθως για κανονικοποίηση)\n",
    "    price = seq.iloc[-1]\n",
    "    prices.append(price)\n",
    "    seq = np.array(seq)\n",
    "    seq = np.round(seq,5)\n",
    "    X_ins.append(seq)\n",
    "    \n",
    "# Τελικά παίρνουμε έναν πίνακα X με σχήμα (n_samples, 50)\n",
    "X = np.array(X_ins)\n"
   ]
  },
  {
   "cell_type": "markdown",
   "id": "d06f4be9-7211-417e-b21c-801d5b9bd359",
   "metadata": {},
   "source": [
    "### Αυτό σχεδιάζει το 400ό παράθυρο εισόδου (δηλαδή το 50-βηματικό ιστορικό τιμών από t=400 έως t=449), \n",
    "### ώστε να μπορείτε να δείτε πώς μοιάζει ένα τυπικό δείγμα εκπαίδευσης."
   ]
  },
  {
   "cell_type": "code",
   "execution_count": 51,
   "id": "bc43d8a0-1fb9-41ae-858a-5ea7aaf80769",
   "metadata": {},
   "outputs": [
    {
     "data": {
      "text/plain": [
       "array([0.84311, 0.85551, 0.89033, 0.91089, 0.93428, 0.95701, 0.96102,\n",
       "       0.94274, 0.93012, 0.93539, 0.92763, 0.9626 , 0.99535, 1.05626,\n",
       "       1.09668, 1.15172, 1.17945, 1.20445, 1.22088, 1.23336, 1.23751,\n",
       "       1.26038, 1.30532, 1.32989, 1.34281, 1.34083, 1.323  , 1.32086,\n",
       "       1.32352, 1.34023, 1.37018, 1.4159 , 1.4449 , 1.47468, 1.49823,\n",
       "       1.50733, 1.5288 , 1.54656, 1.57834, 1.61027, 1.61797, 1.64356,\n",
       "       1.6277 , 1.6026 , 1.61781, 1.66533, 1.71234, 1.74927, 1.79151,\n",
       "       1.79967, 1.8119 , 1.86005, 1.85467, 1.87018, 1.85165, 1.86817,\n",
       "       1.90426, 1.9458 , 1.99018, 1.4622 , 1.45684, 1.45681, 1.44406,\n",
       "       1.44597, 1.44472, 1.45803, 1.45923, 1.47368, 1.47173, 1.47858])"
      ]
     },
     "execution_count": 51,
     "metadata": {},
     "output_type": "execute_result"
    }
   ],
   "source": [
    "X[1]"
   ]
  },
  {
   "cell_type": "code",
   "execution_count": 8,
   "id": "4dfed661-d5d9-4cd9-8ab3-536b070ed111",
   "metadata": {
    "scrolled": true
   },
   "outputs": [
    {
     "data": {
      "text/plain": [
       "[<matplotlib.lines.Line2D at 0x217ea1bb9d0>]"
      ]
     },
     "execution_count": 8,
     "metadata": {},
     "output_type": "execute_result"
    },
    {
     "data": {
      "image/png": "[encoded data removed]",
      "text/plain": [
       "<Figure size 640x480 with 1 Axes>"
      ]
     },
     "metadata": {},
     "output_type": "display_data"
    }
   ],
   "source": [
    "plt.plot(X[200])"
   ]
  },
  {
   "cell_type": "markdown",
   "id": "a8de0870-549f-470a-9980-14052313cb90",
   "metadata": {},
   "source": [
    "## Διαχωρισμός σε training set & test set\n",
    "### Το πρώτο 80% θα χρησιμοποιηθεί για το training set\n"
   ]
  },
  {
   "cell_type": "code",
   "execution_count": 9,
   "id": "8221f497-7f78-4fa0-856f-bbfbc49f8590",
   "metadata": {},
   "outputs": [],
   "source": [
    "#Διαχωρισμός σε training set και test set\n",
    "ts = round(len(X)*0.8)\n",
    "#inputs\n",
    "# το πρώτο 80% train set και το υπόλοιπο test set\n",
    "train_set = X[:ts]\n",
    "test_set = X[ts:]\n",
    "#outputs\n",
    "#\n",
    "y_train = y_targets[:ts]\n",
    "y_test = y_targets[ts:]\n",
    "\n",
    "# ο λόγος που χρησιμοποιούμε numpy vectors είναι γιατί πολλές βιβλιοήκες ML τα χρησιμοποιούν\n",
    "y_train = np.array(y_train)\n",
    "y_test = np.array(y_test)"
   ]
  },
  {
   "cell_type": "markdown",
   "id": "f6850626-bc6b-4de1-885f-896366dd207b",
   "metadata": {},
   "source": [
    "## Εισάγουμε κάποιες βιβλιοθήκες\n",
    "### 1) from sklearn.linear_model import Ridge\n",
    "### Η παλινδρόμηση Ridge θα είναι το read‐out layer: ένα γραμμικό μοντέλο με L₂ κανονικοποίηση,\n",
    "### που μαθαίνει να χαρτογραφεί τις καταστάσεις του reservoir στις τιμές‐στόχους.\n",
    "### 2) from sklearn.model_selection import GridSearchCV, TimeSeriesSplit\n",
    "### Το GridSearchCV εκτελεί εξαντλητική αναζήτηση σε πλέγμα υπερπαραμέτρων\n",
    "### (π.χ. διαφορετικά spectral_radius, leakage κ.λπ.), χρησιμοποιώντας cross‐validation\n",
    "### για να επιλέξει τον καλύτερο συνδυασμό.\n",
    "### Το TimeSeriesSplit είναι καταμεριστής cross‐validation που διατηρεί τη χρονολογική σειρά\n",
    "### (χωρίς τυχαιοποίηση), παρέχοντας σωστά train/test folds για χρονοσειρές.\n",
    "### 3) from sklearn.metrics import make_scorer, mean_squared_error\n",
    "### Το mean_squared_error είναι η συνάρτηση κόστους (loss) που θα ελαχιστοποιήσετε.\n",
    "### Το make_scorer(mean_squared_error, greater_is_better=False) το “τυλίγει”\n",
    "### ώστε να μπορεί να περαστεί στο GridSearchCV (απαιτεί αντικείμενο scorer).\n",
    "### 4) from pyrcn.model_selection import SequentialSearchCV\n",
    "### Ένας PyRCN‐specific orchestrator που εκτελεί διαδοχικά βήματα tuning\n",
    "### (π.χ. πρώτα input_scaling, μετά spectral_radius κ.λπ.), σταθεροποιώντας \n",
    "### κάθε φορά τις καλύτερες παραμέτρους.\n",
    "### 5) from pyrcn.metrics import mean_squared_error\n",
    "### Η δική του έκδοση του MSE στο PyRCN (ίδια μαθηματικά αλλά συμβατή με το API).\n",
    "### 6) from pyrcn.echo_state_network import ESNRegressor\n",
    "### Η κύρια κλάση που υλοποιεί το Echo State Network για regression.\n",
    "### Τη δημιουργείτε με τα blocks InputToNode και NodeToNode, συν ένα read‐out (Ridge).\n",
    "### 7) from pyrcn.base.blocks import InputToNode, NodeToNode\n",
    "### Το InputToNode καθορίζει πώς οι είσοδοι τροφοδοτούνται (και κλιμακώνονται)\n",
    "### σε κάθε νευρώνα του reservoir.\n",
    "### Το NodeToNode καθορίζει τις εσωτερικές επαναληπτικές συνδέσεις\n",
    "### (μέγεθος, spectral radius, leakage, sparsity κ.λπ.).\n",
    "### 8) from matplotlib import pyplot as plt\n",
    "### Βασική βιβλιοθήκη σχεδιασμού γραφημάτων για οπτικοποίηση:\n",
    "### καμπύλες κόστους, προβλέψεις vs πραγματικά, RMSE vs υπερπαράμετροι κ.λπ.\n"
   ]
  },
  {
   "cell_type": "code",
   "execution_count": 10,
   "id": "d49bae85-4a1c-421c-a74f-d068db7f019a",
   "metadata": {},
   "outputs": [],
   "source": [
    "from sklearn.linear_model import Ridge\n",
    "from sklearn.model_selection import GridSearchCV\n",
    "from sklearn.metrics import make_scorer,mean_squared_error\n",
    "from sklearn.model_selection import TimeSeriesSplit, GridSearchCV\n",
    "\n",
    "from pyrcn.model_selection import SequentialSearchCV\n",
    "from pyrcn.metrics import mean_squared_error\n",
    "from pyrcn.echo_state_network import ESNRegressor\n",
    "from pyrcn.base.blocks import InputToNode, NodeToNode\n",
    "from sklearn.metrics import make_scorer,mean_squared_error\n",
    "\n",
    "from matplotlib import pyplot as plt"
   ]
  },
  {
   "cell_type": "markdown",
   "id": "a67557dd-0491-4b09-8b20-db0697036677",
   "metadata": {},
   "source": [
    "# Βήμα 1: Αρχική ρύθμιση και Grid Search του ESN"
   ]
  },
  {
   "cell_type": "code",
   "execution_count": 11,
   "id": "bcdea4ce-75b0-4c43-885d-2b9a2af74d17",
   "metadata": {
    "scrolled": true
   },
   "outputs": [
    {
     "name": "stdout",
     "output_type": "stream",
     "text": [
      "Fitting 5 folds for each of 8 candidates, totalling 40 fits\n",
      "[CV 1/5] END input_scaling=0.1, leakage=0.1, spectral_radius=0.1;, score=-0.118 total time=   0.1s\n",
      "[CV 2/5] END input_scaling=0.1, leakage=0.1, spectral_radius=0.1;, score=-0.274 total time=   0.2s\n",
      "[CV 3/5] END input_scaling=0.1, leakage=0.1, spectral_radius=0.1;, score=-0.240 total time=   0.0s\n",
      "[CV 4/5] END input_scaling=0.1, leakage=0.1, spectral_radius=0.1;, score=-1.688 total time=   0.1s\n",
      "[CV 5/5] END input_scaling=0.1, leakage=0.1, spectral_radius=0.1;, score=-1.106 total time=   0.0s\n",
      "[CV 1/5] END input_scaling=0.1, leakage=0.1, spectral_radius=0.2;, score=-0.231 total time=   0.0s\n",
      "[CV 2/5] END input_scaling=0.1, leakage=0.1, spectral_radius=0.2;, score=-0.626 total time=   0.0s\n",
      "[CV 3/5] END input_scaling=0.1, leakage=0.1, spectral_radius=0.2;, score=-0.035 total time=   0.0s\n",
      "[CV 4/5] END input_scaling=0.1, leakage=0.1, spectral_radius=0.2;, score=-1.341 total time=   0.1s\n",
      "[CV 5/5] END input_scaling=0.1, leakage=0.1, spectral_radius=0.2;, score=-0.735 total time=   0.0s\n",
      "[CV 1/5] END input_scaling=0.1, leakage=0.2, spectral_radius=0.1;, score=-0.143 total time=   0.0s\n",
      "[CV 2/5] END input_scaling=0.1, leakage=0.2, spectral_radius=0.1;, score=-0.102 total time=   0.0s\n",
      "[CV 3/5] END input_scaling=0.1, leakage=0.2, spectral_radius=0.1;, score=-0.090 total time=   0.1s\n",
      "[CV 4/5] END input_scaling=0.1, leakage=0.2, spectral_radius=0.1;, score=-0.274 total time=   0.0s\n",
      "[CV 5/5] END input_scaling=0.1, leakage=0.2, spectral_radius=0.1;, score=-0.331 total time=   0.0s\n",
      "[CV 1/5] END input_scaling=0.1, leakage=0.2, spectral_radius=0.2;, score=-0.190 total time=   0.0s\n",
      "[CV 2/5] END input_scaling=0.1, leakage=0.2, spectral_radius=0.2;, score=-0.233 total time=   0.0s\n",
      "[CV 3/5] END input_scaling=0.1, leakage=0.2, spectral_radius=0.2;, score=-0.161 total time=   0.1s\n",
      "[CV 4/5] END input_scaling=0.1, leakage=0.2, spectral_radius=0.2;, score=-0.796 total time=   0.1s\n",
      "[CV 5/5] END input_scaling=0.1, leakage=0.2, spectral_radius=0.2;, score=-0.651 total time=   0.0s\n",
      "[CV 1/5] END input_scaling=0.2, leakage=0.1, spectral_radius=0.1;, score=-0.339 total time=   0.0s\n",
      "[CV 2/5] END input_scaling=0.2, leakage=0.1, spectral_radius=0.1;, score=-0.627 total time=   0.1s\n",
      "[CV 3/5] END input_scaling=0.2, leakage=0.1, spectral_radius=0.1;, score=-0.994 total time=   0.0s\n",
      "[CV 4/5] END input_scaling=0.2, leakage=0.1, spectral_radius=0.1;, score=-0.971 total time=   0.0s\n",
      "[CV 5/5] END input_scaling=0.2, leakage=0.1, spectral_radius=0.1;, score=-2.093 total time=   0.1s\n",
      "[CV 1/5] END input_scaling=0.2, leakage=0.1, spectral_radius=0.2;, score=-0.506 total time=   0.0s\n",
      "[CV 2/5] END input_scaling=0.2, leakage=0.1, spectral_radius=0.2;, score=-0.837 total time=   0.0s\n",
      "[CV 3/5] END input_scaling=0.2, leakage=0.1, spectral_radius=0.2;, score=-0.500 total time=   0.0s\n",
      "[CV 4/5] END input_scaling=0.2, leakage=0.1, spectral_radius=0.2;, score=-1.189 total time=   0.0s\n",
      "[CV 5/5] END input_scaling=0.2, leakage=0.1, spectral_radius=0.2;, score=-2.245 total time=   0.0s\n",
      "WARNING: No convergence! Returning possibly invalid values!!!\n",
      "[CV 1/5] END input_scaling=0.2, leakage=0.2, spectral_radius=0.1;, score=-0.605 total time=   0.6s\n",
      "[CV 2/5] END input_scaling=0.2, leakage=0.2, spectral_radius=0.1;, score=-0.274 total time=   0.0s\n",
      "[CV 3/5] END input_scaling=0.2, leakage=0.2, spectral_radius=0.1;, score=-0.282 total time=   0.1s\n",
      "[CV 4/5] END input_scaling=0.2, leakage=0.2, spectral_radius=0.1;, score=-0.876 total time=   0.0s\n",
      "[CV 5/5] END input_scaling=0.2, leakage=0.2, spectral_radius=0.1;, score=-0.281 total time=   0.0s\n",
      "[CV 1/5] END input_scaling=0.2, leakage=0.2, spectral_radius=0.2;, score=-0.597 total time=   0.1s\n",
      "[CV 2/5] END input_scaling=0.2, leakage=0.2, spectral_radius=0.2;, score=-0.346 total time=   0.1s\n",
      "[CV 3/5] END input_scaling=0.2, leakage=0.2, spectral_radius=0.2;, score=-0.957 total time=   0.1s\n",
      "[CV 4/5] END input_scaling=0.2, leakage=0.2, spectral_radius=0.2;, score=-1.055 total time=   0.1s\n",
      "[CV 5/5] END input_scaling=0.2, leakage=0.2, spectral_radius=0.2;, score=-0.406 total time=   0.3s\n",
      "SequentialSearchCV(estimator=ESNRegressor(input_to_node=InputToNode(hidden_layer_size=400,\n",
      "                                                                    input_activation='identity',\n",
      "                                                                    input_scaling=0.1),\n",
      "                                          node_to_node=NodeToNode(hidden_layer_size=400,\n",
      "                                                                  k_rec=10,\n",
      "                                                                  leakage=0.2,\n",
      "                                                                  sparsity=0.025,\n",
      "                                                                  spectral_radius=0.1),\n",
      "                                          regressor=Ridge(alpha=1e-05,\n",
      "                                                          random_state=42),\n",
      "                                          requires_sequence=False),\n",
      "                   searches=[('step1',\n",
      "                              <class 'sklearn.model_selection._search.GridSearchCV'>,\n",
      "                              {'input_scaling': (0.1, 0.2),\n",
      "                               'leakage': (0.1, 0.2),\n",
      "                               'spectral_radius': (0.1, 0.2)},\n",
      "                              {'n_jobs': 1,\n",
      "                               'scoring': make_scorer(mean_squared_error, greater_is_better=False, response_method='predict'),\n",
      "                               'verbose': 5})])\n"
     ]
    }
   ],
   "source": [
    "# Απενεργοποιούμε όλες τις προειδοποιήσεις για καθαρό output\n",
    "import warnings\n",
    "warnings.filterwarnings('ignore')\n",
    "\n",
    "# initially_fixed_params: λεξικό με σταθερές παραμέτρους του ESN για αυτό το βήμα.\n",
    "#   hidden_layer_size=400      : αριθμός κόμβων στο reservoir\n",
    "#   input_activation='identity': χωρίς μη γραμμικό μετασχηματισμό εισόδου\n",
    "#   reservoir_activation='tanh': ενεργοποίηση μέσα στο reservoir\n",
    "#   bidirectional=False        : καμία οπισθοδρόμηση (μόνο προς τα εμπρός)\n",
    "#   alpha=1e-5                 : δύναμη κανονικοποίησης Ridge για το read-out\n",
    "#   k_rec=10                   : κάθε κόμβος έχει 10 επαναληπτικές συνδέσεις\n",
    "#   random_state=42            : αναπαραγωγιμότητα τυχαίων βαρών\n",
    "#   requires_sequence=False    : δεν απαιτείται η ολόκληρη ακολουθία κατά το fit\n",
    "initially_fixed_params = {\n",
    "    'hidden_layer_size': 400,\n",
    "    'input_activation': 'identity',\n",
    "    'reservoir_activation': 'tanh',\n",
    "    'bidirectional': False,\n",
    "    'alpha': 1e-5,\n",
    "    'k_rec': 10,\n",
    "    'random_state': 42,\n",
    "    'requires_sequence': False\n",
    "}\n",
    "\n",
    "# step1_esn_params: grid υπερπαραμέτρων για το πρώτο tuning βήμα\n",
    "#   → συνολικά 2×2×2 = 8 δυνατότητες\n",
    "step1_esn_params = {\n",
    "    'input_scaling':  (0.1, 0.2),\n",
    "    'spectral_radius': (0.1, 0.2),\n",
    "    'leakage':         (0.1, 0.2)\n",
    "}\n",
    "\n",
    "# Μετατρέπουμε το MSE σε scorer για το GridSearchCV, ώστε να το ελαχιστοποιεί\n",
    "from sklearn.metrics import make_scorer, mean_squared_error\n",
    "scorer = make_scorer(score_func=mean_squared_error, greater_is_better=False)\n",
    "\n",
    "# Επιπλέον kwargs για το GridSearchCV:\n",
    "#   verbose=5 : εμφάνιση προόδου ανά fold\n",
    "#   scoring=scorer : χρήση του MSE scorer\n",
    "#   n_jobs=1 : σειριακή εκτέλεση (θέσε -1 για παράλληλη)\n",
    "kwargs_step1 = {\n",
    "    'verbose': 5,\n",
    "    'scoring': scorer,\n",
    "    'n_jobs': 1\n",
    "}\n",
    "\n",
    "# Καθορίζουμε το βήμα αναζήτησης:\n",
    "#   ('βημα', ΜέθοδοςCV, grid παραμέτρων, επιπλέον kwargs)\n",
    "searches = [\n",
    "    ('step1', GridSearchCV, step1_esn_params, kwargs_step1)\n",
    "]\n",
    "\n",
    "# Δημιουργούμε το ESNRegressor με Ridge read-out και τις σταθερές παραμέτρους\n",
    "from sklearn.linear_model import Ridge\n",
    "from pyrcn.echo_state_network import ESNRegressor\n",
    "esn = ESNRegressor(regressor=Ridge(), **initially_fixed_params)\n",
    "\n",
    "# Εκτελούμε SequentialSearchCV: \n",
    "#   1) παίρνει το base ESN\n",
    "#   2) τρέχει το 'step1' grid search (8 συνδυασμοί) με TimeSeriesSplit\n",
    "#   3) επιλέγει τις βέλτιστες input_scaling, spectral_radius, leakage\n",
    "from pyrcn.model_selection import SequentialSearchCV\n",
    "esn_opti = SequentialSearchCV(esn, searches=searches).fit(train_set, y_train)\n",
    "\n",
    "# Εμφανίζουμε το βελτιστοποιημένο ESN με τις επιλεγμένες παραμέτρους\n",
    "print(esn_opti)"
   ]
  },
  {
   "cell_type": "code",
   "execution_count": 12,
   "id": "6aa8ca86-9efa-46fd-9710-cbbc8e6ddaf9",
   "metadata": {},
   "outputs": [],
   "source": [
    "## Καθορίζουμε την λίστα υποψήγιων input_scaling τιμών\n",
    "#in_scaling = [0.15,0.16,0.17,0.18,0.19,0.20,0.21,0.22,0.23,0.24,0.25] # θα περιηγιθούμε σε αύτες για να βρούμε την καλύτερη τιμή\n",
    "in_scaling = [0.1,0.2,0.3,0.4]"
   ]
  },
  {
   "cell_type": "code",
   "execution_count": 52,
   "id": "dc843154-710f-49b6-9689-b973fdc8b09e",
   "metadata": {
    "scrolled": true
   },
   "outputs": [
    {
     "name": "stdout",
     "output_type": "stream",
     "text": [
      "0.018390390596179338\n",
      "0.022097017114263068\n",
      "0.013443794044666387\n",
      "0.021254035157208803\n"
     ]
    }
   ],
   "source": [
    "# Δημιουργούμε μια λίστα για να αποθηκεύσουμε τα RMSE για κάθε input_scaling\n",
    "rmses = list()\n",
    "# Βρόχος πάνω σε όλες τις τιμές του in_scaling\n",
    "for i in range(len(in_scaling)):\n",
    "    in_s = in_scaling[i]  # τρέχουσα τιμή input_scaling\n",
    "\n",
    "    # Ορίζουμε το μπλοκ που τροφοδοτεί το reservoir με είσοδο\n",
    "\n",
    "    base_input_to_nodes = InputToNode(\n",
    "        hidden_layer_size=40,        # πλήθος κόμβων reservoir\n",
    "        input_activation='identity',  # χωρίς μη γραμμική ενεργοποίηση στην είσοδο\n",
    "        k_in=1,                       # κάθε είσοδος συνδέεται με κάθε κόμβο\n",
    "        input_scaling=in_s,           # κλιμάκωση εισόδου\n",
    "        bias_scaling=0.0              # χωρίς bias\n",
    "    )\n",
    "    \n",
    "     # Ορίζουμε τις επαναληπτικές συνδέσεις του reservoir\n",
    "    base_nodes_to_nodes = NodeToNode(\n",
    "        hidden_layer_size=40, # ίδιο πλήθος κόμβων\n",
    "        spectral_radius=0.2,   # σταθερή φασματική ακτίνα\n",
    "        leakage=0.2,           # σταθερός ρυθμός διαρροής\n",
    "        k_rec=10               # κάθε κόμβος συνδέεται με 10 τυχαίους\n",
    "    )\n",
    "     \n",
    "    # Δημιουργούμε το ESN με Ridge read-out\n",
    "    esn = ESNRegressor(\n",
    "        input_to_node=base_input_to_nodes,\n",
    "        node_to_node=base_nodes_to_nodes,\n",
    "        regressor=Ridge(alpha=1e-8),\n",
    "        #n_readout_inits=50  #n_readout_inits=50 πεταει τα πρωτα 50 βηματα για να σταθεροποιηθεί το Reservoir\n",
    "    )\n",
    "    \n",
    "    # Εκπαιδεύουμε το ESN πάνω στο training set\n",
    "    esn.fit(train_set, y_train)\n",
    "    \n",
    "    # Παράγουμε προβλέψεις για το ίδιο training set\n",
    "    predictions = esn.predict(train_set)\n",
    "    \n",
    "    # Υπολογίζουμε το MSE και έπειτα το RMSE\n",
    "    MSE = mean_squared_error(predictions,y_train)\n",
    "    rmse = math.sqrt(MSE)\n",
    "        \n",
    "    # Εκτυπώνουμε και αποθηκεύουμε το RMSE\n",
    "    print(rmse)\n",
    "    rmses.append(rmse)"
   ]
  },
  {
   "cell_type": "code",
   "execution_count": 14,
   "id": "74efdf2a-e83e-4265-be9e-0aaf52683792",
   "metadata": {
    "scrolled": true
   },
   "outputs": [
    {
     "data": {
      "text/plain": [
       "[<matplotlib.lines.Line2D at 0x217ec68a990>]"
      ]
     },
     "execution_count": 14,
     "metadata": {},
     "output_type": "execute_result"
    },
    {
     "data": {
      "image/png": "[encoded data removed]",
      "text/plain": [
       "<Figure size 640x480 with 1 Axes>"
      ]
     },
     "metadata": {},
     "output_type": "display_data"
    }
   ],
   "source": [
    "plt.title(\"Input Scaling vs RMSE\")\n",
    "plt.xlabel(\"Input Scaling\")\n",
    "plt.ylabel(\"RMSE\")\n",
    "plt.plot(in_scaling,rmses)"
   ]
  },
  {
   "cell_type": "code",
   "execution_count": 15,
   "id": "45575683-c8b6-40dc-adc3-1b260260cbb6",
   "metadata": {},
   "outputs": [],
   "source": [
    "## Φτιαχνουμε μια λίστα με τις πιθανές τιμές των κόμβων\n",
    " \n",
    "nodes = [30,40,50,60,70,80,90,100]"
   ]
  },
  {
   "cell_type": "markdown",
   "id": "7d752986-4b57-4a9a-8f21-0a1a8850eb16",
   "metadata": {},
   "source": [
    "## Θέλουμε να δούμε πώς η απόδοση του ESN (μετρούμενη ως RMSE στο training set) αλλάζει καθώς αλλάζουμε το πλήθος των νευρώνων (nodes) στο εσωτερικό reservoir.\n",
    "\n",
    "## Λιγότεροι κόμβοι → μικρότερη χωρητικότητα μνήμης, λιγότερο πολύπλοκο μοντέλο\n",
    "\n",
    "## Περισσότεροι κόμβοι → περισσότερη χωρητικότητα, αλλά και κίνδυνος υπερεκπαίδευσης ή μεγαλύτερο κόστος υπολογισμού\n",
    "\n"
   ]
  },
  {
   "cell_type": "code",
   "execution_count": 16,
   "id": "56d53b52-2251-455f-8a1a-25ff420b4b10",
   "metadata": {},
   "outputs": [
    {
     "name": "stdout",
     "output_type": "stream",
     "text": [
      "n_nodes=30 → RMSE=0.04472763665952479012\n",
      "n_nodes=40 → RMSE=0.03898108377537985725\n",
      "n_nodes=50 → RMSE=0.05461328791696708901\n",
      "n_nodes=60 → RMSE=0.03651737474696657715\n",
      "n_nodes=70 → RMSE=0.03728185438558069553\n",
      "n_nodes=80 → RMSE=0.03475016498834061773\n",
      "n_nodes=90 → RMSE=0.03370777316869575518\n",
      "n_nodes=100 → RMSE=0.03240169734505021770\n"
     ]
    }
   ],
   "source": [
    "\n",
    "# Εδώ θα αποθηκεύσουμε τα RMSE για κάθε μέγεθος\n",
    "rmses = []\n",
    "\n",
    "# Βρόχος πάνω σε κάθε αριθμό κόμβων\n",
    "for i in range(len(nodes)):\n",
    "    n_nodes = nodes[i]  # τρέχουσα τιμή hidden_layer_size\n",
    "\n",
    "    # 1) Ορισμός του μπλοκ εισόδου με n_nodes νευρώνες\n",
    "    base_input_to_nodes = InputToNode(\n",
    "        hidden_layer_size=n_nodes,       # πλήθος νευρώνων\n",
    "        input_activation='identity',     # χωρίς μη-γραμμικότητα στην είσοδο\n",
    "        k_in=1,                          # πλήρης σύνδεση input → κάθε νευρώνα\n",
    "        input_scaling=0.1,               # σταθερή κλιμάκωση εισόδου\n",
    "        bias_scaling=0.0                 # χωρίς bias\n",
    "    )\n",
    "\n",
    "    # 2) Ορισμός του μπλοκ επαναληπτικών συνδέσεων (reservoir)\n",
    "    base_nodes_to_nodes = NodeToNode(\n",
    "        hidden_layer_size=n_nodes,  # ίδιο πλήθος νευρώνων\n",
    "        spectral_radius=0.2,        # σταθερή φασματική ακτίνα\n",
    "        leakage=0.2,                # σταθερή διαρροή μνήμης\n",
    "        k_rec=10,                   # 10 τυχαίες επαναληπτικές συνδέσεις ανά νευρώνα\n",
    "              \n",
    "    )\n",
    "\n",
    "    # 3) Κατασκευή ESNRegressor με Ridge read‐out\n",
    "    esn = ESNRegressor(\n",
    "        input_to_node=base_input_to_nodes,\n",
    "        node_to_node=base_nodes_to_nodes,\n",
    "        regressor=Ridge(alpha=1e-8)  # πολύ ελαφριά κανονικοποίηση\n",
    "    )\n",
    "\n",
    "    # 4) Εκπαίδευση του ESN στο training set\n",
    "    esn.fit(train_set, y_train)\n",
    "\n",
    "    # 5) Πρόβλεψη πάνω στο ίδιο training set\n",
    "    predictions = esn.predict(train_set)\n",
    "\n",
    "    # 6) Υπολογισμός MSE και RMSE\n",
    "    MSE = mean_squared_error(predictions, y_train)\n",
    "    rmse = math.sqrt(MSE)\n",
    "\n",
    "    # 7) Εμφάνιση και αποθήκευση του αποτελέσματος\n",
    "    print(f\"n_nodes={n_nodes} → RMSE={rmse:.20f}\")\n",
    "    rmses.append(rmse)\n"
   ]
  },
  {
   "cell_type": "markdown",
   "id": "cace61a4-4de4-45d1-8da4-ed9b0eed2553",
   "metadata": {},
   "source": [
    "## Γράφημα που δείχνει ποσο μεταβάλεται το σφάλμα με βάση των αριθμών των κόμβων που επιλέχθηκε"
   ]
  },
  {
   "cell_type": "code",
   "execution_count": 17,
   "id": "e89cbe14-0fc8-44a5-abeb-4d115a3a4ee3",
   "metadata": {
    "scrolled": true
   },
   "outputs": [
    {
     "data": {
      "text/plain": [
       "[<matplotlib.lines.Line2D at 0x217ec4656d0>]"
      ]
     },
     "execution_count": 17,
     "metadata": {},
     "output_type": "execute_result"
    },
    {
     "data": {
      "image/png": "[encoded data removed]",
      "text/plain": [
       "<Figure size 640x480 with 1 Axes>"
      ]
     },
     "metadata": {},
     "output_type": "display_data"
    }
   ],
   "source": [
    "plt.title(\"Number of Nodes vs RMSE\")\n",
    "plt.xlabel(\"Number of Nodes\")\n",
    "plt.ylabel(\"RMSE\")\n",
    "plt.plot(nodes,rmses)"
   ]
  },
  {
   "cell_type": "markdown",
   "id": "a3885956-a723-40df-92b0-1dddee36754b",
   "metadata": {},
   "source": [
    "## Σε αυτό το βήμα διαμορφώνουμε την αρχιτεκτονική του Echo State Network, δημιουργώντας: \n",
    "### Το μπλοκ εισόδου (InputToNode) που χαρτογραφεί και κλιμακώνει τις εξωτερικές τιμές στο reservoir.\n",
    "### Το επαναληπτικό μπλοκ (NodeToNode) που ορίζει τη δυναμική και τις εσωτερικές συνδέσεις του reservoir.\n",
    "### Τον τελικό ESNRegressor, συνδυάζοντας τα δύο blocks με έναν γραμμικό Ridge read-out, έτοιμο να εκπαιδευτεί."
   ]
  },
  {
   "cell_type": "code",
   "execution_count": 18,
   "id": "a0e21046-6a03-4ee8-a8e1-976197d6fa18",
   "metadata": {},
   "outputs": [],
   "source": [
    "\n",
    "# Ορισμός του μπλοκ εισόδου (Input → Reservoir)\n",
    "base_input_to_nodes = InputToNode(\n",
    "    hidden_layer_size=60,   # reservoir με 1000 νευρώνες\n",
    "    input_activation='identity',  # η είσοδος περνάει αυτούσια, χωρίς μη-γραμμική ενεργοποίηση\n",
    "    k_in=1,                       # κάθε διάσταση εισόδου συνδέεται με κάθε νευρώνα\n",
    "    input_scaling=0.2,            # κλιμακώνει την ισχύ του σήματος εισόδου στο 0.4\n",
    "    bias_scaling=0.0              # δεν προστίθεται επιπλέον bias\n",
    ")\n",
    "\n",
    "# Ορισμός του επαναληπτικού μπλοκ (Reservoir → Reservoir)\n",
    "base_nodes_to_nodes = NodeToNode(\n",
    "    hidden_layer_size=60,  # ίδια διάσταση reservoir: 1000 νευρώνες\n",
    "    spectral_radius=0.2,     # φασματική ακτίνα για σταθερότητα της δυναμικής\n",
    "    leakage=0.2,             # ρυθμός \"διαρροής\" μνήμης των νευρώνων\n",
    "    k_rec=10                 # κάθε νευρώνας έχει 10 τυχαίες επαναληπτικές συνδέσεις\n",
    ")\n",
    "\n",
    "# Συνδυασμός σε ESNRegressor με Ridge read-out\n",
    "esn = ESNRegressor(\n",
    "    input_to_node=base_input_to_nodes,      # το μπλοκ εισόδου που ορίσαμε\n",
    "    node_to_node=base_nodes_to_nodes,       # το επαναληπτικό μπλοκ\n",
    "    regressor=Ridge(alpha=1e-8)             # γραμμικός read-out με πολύ ελαφριά κανονικοποίηση\n",
    ")\n"
   ]
  },
  {
   "cell_type": "markdown",
   "id": "fc0b4375-74a1-46e4-90c8-f74ac8081a71",
   "metadata": {},
   "source": [
    "## Δημιουργία σετ εισόδων και στόχων για εκπαίδευση ESN βάσει sliding window.\n"
   ]
  },
  {
   "cell_type": "code",
   "execution_count": 19,
   "id": "a57ba2e4-28cf-464a-9241-12a807cdc2ad",
   "metadata": {},
   "outputs": [],
   "source": [
    "# Λίστα με τα μήκη ιστορικού (μεγέθη παραθύρου) που θα αξιολογηθούν ως είσοδοι για το ESN\n",
    "windows = [10,15,20,25,30,35,40,45,50,60,70]"
   ]
  },
  {
   "cell_type": "code",
   "execution_count": 25,
   "id": "e262d190-b9a0-4791-843f-270e4e53d7e9",
   "metadata": {},
   "outputs": [],
   "source": [
    "def receive_training_sets(window):\n",
    "\n",
    "# Ετοιμάζουμε λίστες για τους στόχους, τις εισόδους και τις τιμές «πριν»\n",
    "    y_targets = list()\n",
    "    X_ins     = list()\n",
    "    prices    = list()\n",
    "\n",
    "\n",
    "    # Ολισθαίνουμε ένα παράθυρο μήκους window+1 πάνω στη σειρά τιμών κλεισίματος\n",
    "    for b in range(len(df)):\n",
    "        end = b + window + 1\n",
    "        if end > len(df):\n",
    "            break  # σταματάμε όταν δεν υπάρχουν αρκετά δεδομένα για πλήρες παράθυρο\n",
    "\n",
    "        # Παίρνουμε το slice των window+1 τιμών: οι πρώτες window για είσοδο, η τελευταία για στόχο\n",
    "        seq1 = df.GDPCanonical[b:end]\n",
    "\n",
    "        # Ο στόχος (target) είναι η τελευταία τιμή του slice\n",
    "        y_targets.append(seq1.iloc[-1])\n",
    "\n",
    "        # Η είσοδος είναι οι πρώτες window τιμές\n",
    "        seq = seq1[:-1]\n",
    "\n",
    "        # Καταγράφουμε την τελευταία τιμή της εισόδου (για κανονικοποίηση ή έλεγχο κατεύθυνσης)\n",
    "        prices.append(seq.iloc[-1])\n",
    "\n",
    "        # Μετατρέπουμε τη σειρά εισόδου σε NumPy array και την αποθηκεύουμε\n",
    "        X_ins.append(np.array(seq))\n",
    "\n",
    "    # Στοίχιση όλων των παραθύρων εισόδου σε έναν πίνακα (n_samples, window)\n",
    "    train_set = np.array(X_ins)\n",
    "\n",
    "    # Μετατροπή λίστας στόχων και τιμών «πριν» σε πίνακες NumPy\n",
    "    y_train = np.array(y_targets)\n",
    "    prev    = np.array(prices)\n",
    "\n",
    "    return train_set, y_train, prev"
   ]
  },
  {
   "cell_type": "code",
   "execution_count": 26,
   "id": "9b598701-7131-41bb-9a7e-f4d8ce605090",
   "metadata": {},
   "outputs": [],
   "source": [
    "def train(train_set,y_train,previous):\n",
    "    esn.fit(train_set, y_train)\n",
    "\n",
    "    \n",
    "    predictions = esn.predict (train_set)\n",
    "\n",
    "        \n",
    "    MSE = mean_squared_error(predictions,y_train)\n",
    "    rmse = math.sqrt(MSE)\n",
    "    \n",
    "    return rmse\n",
    "    "
   ]
  },
  {
   "cell_type": "code",
   "execution_count": 27,
   "id": "ee00cb33-c1f5-442c-a8f5-5ba157d1beac",
   "metadata": {},
   "outputs": [],
   "source": [
    "rmses = []"
   ]
  },
  {
   "cell_type": "markdown",
   "id": "6932dcd7-b0c7-4054-a9bb-bc8cc0bfaec3",
   "metadata": {},
   "source": [
    "## Αυτός ο βρόχος δοκιμάζει διαφορετικά μεγέθη «παραθύρου» (window sizes) και καταγράφει πόσο καλά εκπαιδεύεται το ESN σε κάθε περίπτωση:"
   ]
  },
  {
   "cell_type": "code",
   "execution_count": 28,
   "id": "52718620-7024-4ff7-80be-f7d13fda7033",
   "metadata": {},
   "outputs": [
    {
     "name": "stdout",
     "output_type": "stream",
     "text": [
      "window=10 -> RMSE=0.029982918927246\n",
      "window=15 -> RMSE=0.030014206813493\n",
      "window=20 -> RMSE=0.030253742918092\n",
      "window=25 -> RMSE=0.032173208749157\n",
      "window=30 -> RMSE=0.032222153479727\n",
      "window=35 -> RMSE=0.040809106269601\n",
      "window=40 -> RMSE=0.032823593611188\n",
      "window=45 -> RMSE=0.035308307196516\n",
      "window=50 -> RMSE=0.034436255494291\n",
      "window=60 -> RMSE=0.023945976851905\n",
      "window=70 -> RMSE=0.018530111836038\n"
     ]
    }
   ],
   "source": [
    "# Βρόχος σε όλους τους μεγέθους παραθύρου της λίστας 'windows'\n",
    "for n in range(len(windows)):\n",
    "    window = windows[n]  # τρέχον μέγεθος παραθύρου\n",
    "\n",
    "    # Δημιουργούμε τα training δεδομένα (παράθυρα εισόδου, στόχοι, προηγούμενες τιμές)\n",
    "    train_set, y_train, prev = receive_training_sets(window)\n",
    "\n",
    "    # Εκπαιδεύουμε το ESN με αυτά τα δεδομένα και υπολογίζουμε το RMSE\n",
    "    rmse = train(train_set, y_train, prev)\n",
    "\n",
    "    # Εκτυπώνουμε το RMSE για το τρέχον μέγεθος παραθύρου\n",
    "    print(f\"window={window} -> RMSE={rmse:.15f}\")\n",
    "\n",
    "    # Αποθηκεύουμε το RMSE στη λίστα για μελλοντική ανάλυση ή οπτικοποίηση\n",
    "    rmses.append(rmse)\n"
   ]
  },
  {
   "cell_type": "markdown",
   "id": "9e5fc07c-b829-43ef-b83b-95d4283203bd",
   "metadata": {},
   "source": [
    "## Γράφημα μεταβολής του σφάλματος με βάση το windows size"
   ]
  },
  {
   "cell_type": "code",
   "execution_count": 29,
   "id": "d99bdfb1-4fbb-43fc-9b92-bb29fa9cb530",
   "metadata": {
    "scrolled": true
   },
   "outputs": [
    {
     "data": {
      "image/png": "[encoded data removed]",
      "text/plain": [
       "<Figure size 640x480 with 1 Axes>"
      ]
     },
     "metadata": {},
     "output_type": "display_data"
    }
   ],
   "source": [
    "plt.title(\"Window Size vs RMSE\")\n",
    "plt.xlabel(\"Window Size\")\n",
    "plt.ylabel(\"RMSE\")\n",
    "plt.plot(windows, rmses, marker='o')  # note: use rmses, not rmse\n",
    "plt.grid(True)\n",
    "plt.show()\n"
   ]
  },
  {
   "cell_type": "markdown",
   "id": "0eff4713-df91-4a43-94b3-95ad5f58b4a4",
   "metadata": {},
   "source": [
    "## Κλασική “sliding-window” μετατροπή της μονοδιάστατης χρονοσειράς σε πίνακα εισόδου X διαστάσεων N×50 και αντίστοιχο διάνυσμα στόχων y\n",
    "## 1. Δημιουργία παραθύρων\n",
    "### Ολισθαίνουμε ένα παράθυρο μήκους 51 επάνω στη σειρά:\n",
    "### Είσοδοι: οι πρώτες 50 τιμές.\n",
    "### Στόχος: η 51η τιμή.\n",
    "## 2. Δομές δεδομένων\n",
    "### Το X_ins γίνεται λίστα από μονοδιάστατους πίνακες (arrays), καθένας σχήματος (50,)\n",
    "### Το y_targets είναι λίστα με αριθμούς (scalars) — η “επόμενη” τιμή κλεισίματος που θέλουμε να προβλέψουμε\n",
    "### Το prices κρατάει το τελευταίο στοιχείο κάθε παραθύρου—χρήσιμο για κανονικοποίηση ή υπολογισμό απόδοσης σε σχέση με την πιο πρόσφατη τιμή."
   ]
  },
  {
   "cell_type": "code",
   "execution_count": 33,
   "id": "81bc236c-20a4-4bcd-8d16-0106988b572f",
   "metadata": {},
   "outputs": [],
   "source": [
    "y_targets = list()\n",
    "X_ins = list()\n",
    "prices = list()\n",
    "for i in range(len(df)):\n",
    "    end = i+70+1\n",
    "    if end > len(df):\n",
    "        break\n",
    "    seq1 = df.GDPCanonical[i:end]\n",
    "    seq1 = seq1.reset_index(drop=True)\n",
    "\n",
    "    y_targets.append(seq1.iloc[-1])\n",
    "    \n",
    "    seq = seq1[:-1]\n",
    "    \n",
    "    price = seq.iloc[-1]\n",
    "    prices.append(price)\n",
    "    seq = np.array(seq)\n",
    "    seq = np.round(seq,5)\n",
    "    X_ins.append(seq)\n",
    "    \n",
    "\n",
    "X = np.array(X_ins)"
   ]
  },
  {
   "cell_type": "markdown",
   "id": "08763d94-2431-4b84-af09-a59fd732dae3",
   "metadata": {},
   "source": [
    "## Διαχωρισμός σε training set & test set\n",
    "### Το πρώτο 80% θα χρησιμοποιηθεί για το training set"
   ]
  },
  {
   "cell_type": "code",
   "execution_count": 34,
   "id": "9d95ee80-d171-4426-b062-917c96a7a466",
   "metadata": {},
   "outputs": [],
   "source": [
    "ts = round(len(X)*0.8)\n",
    "#inputs\n",
    "train_set = X[:ts]\n",
    "test_set = X[ts:]\n",
    "#outputs\n",
    "y_train = y_targets[:ts]\n",
    "y_test = y_targets[ts:]\n",
    "\n",
    "y_train = np.array(y_train)\n",
    "y_test = np.array(y_test)\n"
   ]
  },
  {
   "cell_type": "code",
   "execution_count": 35,
   "id": "876fd188-522f-406e-a509-0cf6ae7aa2f4",
   "metadata": {},
   "outputs": [],
   "source": [
    "# Εκπαίδευση (fit) του ESN στο training set\n",
    "#   - Το ESN «μαθαίνει» τον γραμμικό read-out (Ridge) βασιζόμενο στις καταστάσεις του reservoir\n",
    "#   - Χρησιμοποιεί train_set (X) και y_train (στόχους) για να υπολογίσει τα κατάλληλα βάρη\n",
    "esn.fit(train_set, y_train)\n",
    "\n",
    "# Πρόβλεψη (predict) του ίδιου training set\n",
    "#   - Μετά την εκπαίδευση, παράγει τις τιμές που «πιστεύει» ότι αντιστοιχούν στα train_set\n",
    "#   - Αποθηκεύουμε το αποτέλεσμα σε predictions_train\n",
    "predictions_train = esn.predict(train_set)\n"
   ]
  },
  {
   "cell_type": "markdown",
   "id": "6b12d048-1498-4726-ab3f-f8a1c9d7a966",
   "metadata": {},
   "source": [
    "## Σχεδιασμός των πρώτων 30 προβλέψεων του μοντέλου συγκριτικά με τις πραγματικές τιμές, ώστε να δεις σε ένα μικρό «παράθυρο» πώς τα πάει:\n"
   ]
  },
  {
   "cell_type": "code",
   "execution_count": 36,
   "id": "49b5e9c9-728c-4054-9a28-a63b680607e0",
   "metadata": {},
   "outputs": [
    {
     "data": {
      "image/png": "[encoded data removed]",
      "text/plain": [
       "<Figure size 640x480 with 1 Axes>"
      ]
     },
     "metadata": {},
     "output_type": "display_data"
    }
   ],
   "source": [
    "# Σχεδιάζουμε τις πρώτες 30 προβλέψεις (κόκκινη γραμμή)\n",
    "plt.plot(predictions_train[:30], color='red', label='Προβλέψεις')\n",
    "\n",
    "# Σχεδιάζουμε τις πρώτες 30 πραγματικές τιμές (μπλε γραμμή από προεπιλογή)\n",
    "plt.plot(y_train[:30],       label='Πραγματικές τιμές')\n",
    "\n",
    "# Προσθέτουμε υπόμνημα και άξονες\n",
    "plt.legend()\n",
    "plt.xlabel('Δείγμα (index)')\n",
    "plt.ylabel('Τιμή')\n",
    "plt.title('Προβλέψεις vs Πραγματικές (πρώτα 30 δείγματα)')\n",
    "plt.grid(True)\n",
    "plt.show()"
   ]
  },
  {
   "cell_type": "markdown",
   "id": "fdbff571-42e5-4484-aaf7-f422b08653c7",
   "metadata": {},
   "source": [
    "## Αυτή η διαδικασία υπολογίζει πόσες φορές το ESN “έπιασε” σωστά την τάση (πάνω ή κάτω) της τιμής σε σχέση με την προηγούμενη τιμή του παραθύρου στο Training set :"
   ]
  },
  {
   "cell_type": "code",
   "execution_count": 37,
   "id": "424ac4fa-6ce7-4360-ac72-dc2fca9268b9",
   "metadata": {},
   "outputs": [
    {
     "name": "stdout",
     "output_type": "stream",
     "text": [
      "0.634020618556701\n"
     ]
    }
   ],
   "source": [
    "# Ορισμός των πινάκων για έλεγχο κατεύθυνσης πρόβλεψης\n",
    "real        = y_train                # οι πραγματικές επόμενες τιμές\n",
    "predictions = predictions_train      # οι προβλέψεις του ESN για το training set\n",
    "\n",
    "# Το prev παίρνει τις «τελευταίες» τιμές κάθε παραθύρου εισόδου\n",
    "prev = np.array(prices[:ts])\n",
    "\n",
    "\n",
    "# Μετρητής σωστών προβλέψεων κατεύθυνσης\n",
    "number = 0\n",
    "\n",
    "# Βρόχος σε κάθε δείγμα για να ελέγξουμε αν το μοντέλο έπιασε\n",
    "# σωστά αν η τιμή ανέβηκε ή έπεσε σε σχέση με την προηγούμενη τιμή\n",
    "for i in range(len(real)):\n",
    "    # Αν και η πραγματική και η προβλεπόμενη τιμή είναι πάνω\n",
    "    # από το prev[i], μετράμε σωστή ανοδική πρόβλεψη\n",
    "    if real[i] > prev[i] and predictions[i] > prev[i]:\n",
    "        number += 1\n",
    "    # Αν και οι δύο είναι κάτω από το prev[i], μετράμε σωστή καθοδική πρόβλεψη\n",
    "    elif real[i] < prev[i] and predictions[i] < prev[i]:\n",
    "        number += 1\n",
    "    # Διαφορετικά δεν αυξάνουμε τον μετρητή\n",
    "\n",
    "# Υπολογισμός ποσοστού επιτυχίας ως προς την κατεύθυνση (directional accuracy)\n",
    "trues = number / len(real)\n",
    "print(trues)  # π.χ. 0.513 σημαίνει 51.3% σωστές προβλέψεις κατεύθυνσης\n"
   ]
  },
  {
   "cell_type": "markdown",
   "id": "7c6594d9-f94b-41f2-95c4-8d8730f3aa9f",
   "metadata": {},
   "source": [
    "## esn.predict(test_set): χρησιμοποιεί το ήδη “εκπαιδευμένο” μοντέλο (esn.fit έχει ήδη τρέξει) ώστε να εκτιμήσει τις επόμενες τιμές για κάθε παράθυρο στο test_set.\n",
    "\n",
    "### Το αποτέλεσμα predictions_test είναι ένας πίνακας με μήκος όμοιο με το test_set, που περιέχει τις προβλεπόμενες τιμές για κάθε δείγμα του test set."
   ]
  },
  {
   "cell_type": "code",
   "execution_count": 38,
   "id": "cbff9f5d-795a-4a48-8393-29e5c7f27125",
   "metadata": {},
   "outputs": [],
   "source": [
    "# Παράγουμε τις προβλέψεις του ESN για τα νέα, αθέατα δεδομένα του test set\n",
    "predictions_test = esn.predict(test_set)"
   ]
  },
  {
   "cell_type": "code",
   "execution_count": 39,
   "id": "40c2cb92-c70e-4a98-82a5-18eb1250c0eb",
   "metadata": {
    "scrolled": true
   },
   "outputs": [
    {
     "data": {
      "text/plain": [
       "48"
      ]
     },
     "execution_count": 39,
     "metadata": {},
     "output_type": "execute_result"
    }
   ],
   "source": [
    "len(predictions_test)"
   ]
  },
  {
   "cell_type": "code",
   "execution_count": 40,
   "id": "3bfd1128-8a26-4cd1-8719-c682d2ed1f05",
   "metadata": {},
   "outputs": [
    {
     "data": {
      "text/plain": [
       "48"
      ]
     },
     "execution_count": 40,
     "metadata": {},
     "output_type": "execute_result"
    }
   ],
   "source": [
    "len(y_test)"
   ]
  },
  {
   "cell_type": "code",
   "execution_count": 49,
   "id": "42387a89-7331-49f7-b2cf-5edd52079a8c",
   "metadata": {},
   "outputs": [
    {
     "data": {
      "image/png": "[encoded data removed]",
      "text/plain": [
       "<Figure size 640x480 with 1 Axes>"
      ]
     },
     "metadata": {},
     "output_type": "display_data"
    }
   ],
   "source": [
    "# Σχεδίασε τις προβλέψεις 100–129 (κόκκινη γραμμή)\n",
    "plt.plot(predictions_test[:30], color='red', label='Προβλέψεις')\n",
    "\n",
    "# Σχεδίασε τις πραγματικές τιμές 100–129 (μπλε γραμμή)\n",
    "plt.plot(y_test[:30], label='Πραγματικές τιμές')\n",
    "\n",
    "# Προσθήκη υπόμνηματος και τίτλων αξόνων\n",
    "plt.legend()\n",
    "plt.xlabel('Δείγμα (indices 100 έως 129)')\n",
    "plt.ylabel('Τιμή')\n",
    "plt.title('Test Set: Πρόβλεψη vs Πραγματικό (δείγματα 100–129)')\n",
    "plt.grid(True)\n",
    "plt.show()"
   ]
  },
  {
   "cell_type": "markdown",
   "id": "c09a61d1-9df6-4be9-90eb-12ce67cfbcba",
   "metadata": {},
   "source": [
    "## Αυτό το κομμάτι κώδικα υπολογίζει την «κατευθυντική ακρίβεια» (directional accuracy) του μοντέλου στο test set, δηλαδή το ποσοστό των φορών που μάντεψε σωστά αν η τιμή θα κινηθεί πάνω ή κάτω σε σχέση με την προηγούμενη τιμή."
   ]
  },
  {
   "cell_type": "code",
   "execution_count": 42,
   "id": "2bf6f01f-c400-461e-a35f-01d8fb7b3319",
   "metadata": {},
   "outputs": [
    {
     "name": "stdout",
     "output_type": "stream",
     "text": [
      "0.6875\n"
     ]
    }
   ],
   "source": [
    "# Ορισμός των πινάκων για έλεγχο κατεύθυνσης\n",
    "real        = y_test                # πραγματικές τιμές-στόχοι\n",
    "predictions = predictions_test      # προβλεπόμενες τιμές ESN\n",
    "prev        = np.array(prices[ts:]) # τελευταία τιμή κάθε window για το test set\n",
    "\n",
    "# Αρχικοποίηση μετρητή σωστών προβλέψεων κατεύθυνσης\n",
    "number = 0\n",
    "\n",
    "# Για κάθε δείγμα i, ελέγχουμε αν το μοντέλο μάντεψε σωστά την ανοδική/καθοδική κίνηση\n",
    "for i in range(len(real)):\n",
    "    # Σωστή ανοδική πρόβλεψη αν και η πραγματική και η προβλεπόμενη > prev[i]\n",
    "    if real[i] > prev[i] and predictions[i] > prev[i]:\n",
    "        number += 1\n",
    "    # Σωστή καθοδική πρόβλεψη αν και οι δύο < prev[i]\n",
    "    elif real[i] < prev[i] and predictions[i] < prev[i]:\n",
    "        number += 1\n",
    "    # Στις άλλες περιπτώσεις δεν μετράμε τίποτα\n",
    "\n",
    "# Υπολογισμός ποσοστού επιτυχίας (directional accuracy)\n",
    "trues = number / len(real)\n",
    "print(trues)  # π.χ. 0.504 → 50.4% σωστές προβλέψεις κατεύθυνσης"
   ]
  }
 ],
 "metadata": {
  "kernelspec": {
   "display_name": "Python 3 (ipykernel)",
   "language": "python",
   "name": "python3"
  },
  "language_info": {
   "codemirror_mode": {
    "name": "ipython",
    "version": 3
   },
   "file_extension": ".py",
   "mimetype": "text/x-python",
   "name": "python",
   "nbconvert_exporter": "python",
   "pygments_lexer": "ipython3",
   "version": "3.13.2"
  }
 },
 "nbformat": 4,
 "nbformat_minor": 5
}
